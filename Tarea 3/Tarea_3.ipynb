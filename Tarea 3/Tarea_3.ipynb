{
  "nbformat": 4,
  "nbformat_minor": 0,
  "metadata": {
    "colab": {
      "name": "Tarea 3.ipynb",
      "provenance": [],
      "collapsed_sections": [
        "wKn3__TTwqwm",
        "ako1HWBYzWXC",
        "9MjSVFyd6RdC",
        "rhppybQo6WkP",
        "kLsGmWEc7yj0",
        "g6EW0MrLNRkM",
        "1newgcJEEqWN"
      ]
    },
    "kernelspec": {
      "name": "python3",
      "display_name": "Python 3"
    },
    "language_info": {
      "name": "python"
    }
  },
  "cells": [
    {
      "cell_type": "markdown",
      "source": [
        "#Tarea 03 - Análisis de datos geoespaciales mediante pandas, plotly, geopandas y folium\n",
        "\n"
      ],
      "metadata": {
        "id": "YG2yQNVEwLML"
      }
    },
    {
      "cell_type": "markdown",
      "source": [
        "## Estudiantes:\n",
        "\n",
        "Daniel Salazar Mora - B87214\n",
        "<br/>\n",
        "Stephanie María Leitón Ramírez - B74106\n"
      ],
      "metadata": {
        "id": "reYshMqcZOgA"
      }
    },
    {
      "cell_type": "markdown",
      "source": [
        "##Importando las bibliotecas"
      ],
      "metadata": {
        "id": "wKn3__TTwqwm"
      }
    },
    {
      "cell_type": "code",
      "execution_count": null,
      "metadata": {
        "id": "-Rv4h6S47_xD",
        "colab": {
          "base_uri": "https://localhost:8080/",
          "height": 791
        },
        "outputId": "f01efd35-f537-4b4b-9c74-d1f3578ac365"
      },
      "outputs": [
        {
          "output_type": "stream",
          "name": "stdout",
          "text": [
            "Collecting fiona\n",
            "  Downloading Fiona-1.8.21-cp37-cp37m-manylinux2014_x86_64.whl (16.7 MB)\n",
            "\u001b[K     |████████████████████████████████| 16.7 MB 16.2 MB/s eta 0:00:01\n",
            "\u001b[31mERROR: Operation cancelled by user\u001b[0m\n",
            "\u001b[?25hCollecting owslib\n",
            "  Downloading OWSLib-0.25.0-py2.py3-none-any.whl (216 kB)\n",
            "\u001b[K     |████████████████████████████████| 216 kB 15.4 MB/s \n",
            "\u001b[?25hRequirement already satisfied: requests>=1.0 in /usr/local/lib/python3.7/dist-packages (from owslib) (2.23.0)\n",
            "Requirement already satisfied: pyyaml in /usr/local/lib/python3.7/dist-packages (from owslib) (3.13)\n",
            "Requirement already satisfied: pytz in /usr/local/lib/python3.7/dist-packages (from owslib) (2018.9)\n",
            "Collecting pyproj>=2\n",
            "  Downloading pyproj-3.2.1-cp37-cp37m-manylinux2010_x86_64.whl (6.3 MB)\n",
            "\u001b[K     |████████████████████████████████| 6.3 MB 36.5 MB/s \n",
            "\u001b[?25hRequirement already satisfied: python-dateutil>=1.5 in /usr/local/lib/python3.7/dist-packages (from owslib) (2.8.2)\n",
            "Requirement already satisfied: certifi in /usr/local/lib/python3.7/dist-packages (from pyproj>=2->owslib) (2021.10.8)\n",
            "Requirement already satisfied: six>=1.5 in /usr/local/lib/python3.7/dist-packages (from python-dateutil>=1.5->owslib) (1.15.0)\n",
            "Requirement already satisfied: chardet<4,>=3.0.2 in /usr/local/lib/python3.7/dist-packages (from requests>=1.0->owslib) (3.0.4)\n",
            "Requirement already satisfied: urllib3!=1.25.0,!=1.25.1,<1.26,>=1.21.1 in /usr/local/lib/python3.7/dist-packages (from requests>=1.0->owslib) (1.24.3)\n",
            "Requirement already satisfied: idna<3,>=2.5 in /usr/local/lib/python3.7/dist-packages (from requests>=1.0->owslib) (2.10)\n",
            "Installing collected packages: pyproj, owslib\n",
            "Successfully installed owslib-0.25.0 pyproj-3.2.1\n",
            "Collecting geojson\n",
            "  Downloading geojson-2.5.0-py2.py3-none-any.whl (14 kB)\n",
            "Installing collected packages: geojson\n",
            "Successfully installed geojson-2.5.0\n"
          ]
        },
        {
          "output_type": "error",
          "ename": "ModuleNotFoundError",
          "evalue": "ignored",
          "traceback": [
            "\u001b[0;31m---------------------------------------------------------------------------\u001b[0m",
            "\u001b[0;31mModuleNotFoundError\u001b[0m                       Traceback (most recent call last)",
            "\u001b[0;32m<ipython-input-1-7d7728dce2f3>\u001b[0m in \u001b[0;36m<module>\u001b[0;34m()\u001b[0m\n\u001b[1;32m     11\u001b[0m \u001b[0;32mfrom\u001b[0m \u001b[0mowslib\u001b[0m\u001b[0;34m.\u001b[0m\u001b[0mwfs\u001b[0m \u001b[0;32mimport\u001b[0m \u001b[0mWebFeatureService\u001b[0m\u001b[0;34m\u001b[0m\u001b[0;34m\u001b[0m\u001b[0m\n\u001b[1;32m     12\u001b[0m \u001b[0;32mfrom\u001b[0m \u001b[0mgeojson\u001b[0m \u001b[0;32mimport\u001b[0m \u001b[0mdump\u001b[0m\u001b[0;34m\u001b[0m\u001b[0;34m\u001b[0m\u001b[0m\n\u001b[0;32m---> 13\u001b[0;31m \u001b[0;32mimport\u001b[0m \u001b[0mfiona\u001b[0m\u001b[0;34m\u001b[0m\u001b[0;34m\u001b[0m\u001b[0m\n\u001b[0m\u001b[1;32m     14\u001b[0m \u001b[0;32mimport\u001b[0m \u001b[0mfiona\u001b[0m\u001b[0;34m.\u001b[0m\u001b[0mcrs\u001b[0m\u001b[0;34m\u001b[0m\u001b[0;34m\u001b[0m\u001b[0m\n",
            "\u001b[0;31mModuleNotFoundError\u001b[0m: No module named 'fiona'",
            "",
            "\u001b[0;31m---------------------------------------------------------------------------\u001b[0;32m\nNOTE: If your import is failing due to a missing package, you can\nmanually install dependencies using either !pip or !apt.\n\nTo view examples of installing some common dependencies, click the\n\"Open Examples\" button below.\n\u001b[0;31m---------------------------------------------------------------------------\u001b[0m\n"
          ],
          "errorDetails": {
            "actions": [
              {
                "action": "open_url",
                "actionText": "Open Examples",
                "url": "/notebooks/snippets/importing_libraries.ipynb"
              }
            ]
          }
        }
      ],
      "source": [
        "import os\n",
        "import requests\n",
        "import zipfile\n",
        "import csv\n",
        "from functools import partial\n",
        "from shapely.geometry import Point, mapping, shape\n",
        "from shapely.ops import transform\n",
        "!pip install fiona\n",
        "!pip install owslib\n",
        "!pip install geojson\n",
        "from owslib.wfs import WebFeatureService\n",
        "from geojson import dump\n",
        "import fiona\n",
        "import fiona.crs"
      ]
    },
    {
      "cell_type": "code",
      "source": [
        "# Instalación de bibliotecas de GDAL para Python\n",
        "!apt install gdal-bin python-gdal python3-gdal\n",
        "\n",
        "# Instalación de r-tree\n",
        "!apt install python3-rtree\n",
        "\n",
        "# Instalación de GeoPandas\n",
        "!pip install git+git://github.com/geopandas/geopandas.git\n",
        "\n",
        "# Instalación de Descartes\n",
        "!pip install descartes\n",
        "\n",
        "!pip install contextily\n",
        "\n",
        "!pip install folium\n",
        "\n",
        "import math\n",
        "import folium\n",
        "import geopandas as gpad\n",
        "import pandas as pd\n",
        "import contextily as cx\n",
        "import matplotlib.pyplot as plt\n",
        "%matplotlib inline\n",
        "import plotly.express as px\n",
        "from folium import Marker\n",
        "from folium.plugins import MarkerCluster\n",
        "from folium.plugins import HeatMap"
      ],
      "metadata": {
        "id": "03u7tqQbZFrR"
      },
      "execution_count": null,
      "outputs": []
    },
    {
      "cell_type": "markdown",
      "source": [
        "##Obtención de datos\n",
        "Se usan las capas de Web Feature Service (WFS) publicadas por el Instituto Geográfico Nacional (IGN) en el Sistema Nacional de Información Territorial (SNIT):\n",
        "\n",
        "Límite cantonal 1:5000\n",
        "https://www.snitcr.go.cr/ico_servicios_ogc_info?k=bm9kbzo6MjY=&nombre=IGN%20Cartograf%C3%ADa%201:5mil\n",
        " \n",
        " <br/>\n",
        "\n",
        "Red vial 1:200000\n",
        "https://www.snitcr.go.cr/ico_servicios_ogc_info?k=bm9kbzo6NDI=&nombre=IGN%201:200mil\n"
      ],
      "metadata": {
        "id": "ako1HWBYzWXC"
      }
    },
    {
      "cell_type": "markdown",
      "source": [
        "### Limite Cantonal"
      ],
      "metadata": {
        "id": "9MjSVFyd6RdC"
      }
    },
    {
      "cell_type": "code",
      "source": [
        "#wfs = WebFeatureService(url='https://geos.snitcr.go.cr/be/IGN_5/wfs?', version='1.1.0')\n",
        "#list(wfs.contents)"
      ],
      "metadata": {
        "id": "CE57hAGCzvYj"
      },
      "execution_count": null,
      "outputs": []
    },
    {
      "cell_type": "code",
      "source": [
        "# Título\n",
        "#wfs.identification.title"
      ],
      "metadata": {
        "id": "LsA5vfYC08aC"
      },
      "execution_count": null,
      "outputs": []
    },
    {
      "cell_type": "code",
      "source": [
        "# Operaciones\n",
        "#[operation.name for operation in wfs.operations]"
      ],
      "metadata": {
        "id": "D4qjseGr0_TQ"
      },
      "execution_count": null,
      "outputs": []
    },
    {
      "cell_type": "code",
      "source": [
        "# Solicitud de metadatos del servicio\n",
        "\n",
        "# Parámetros de la solicitud\n",
        "params = dict(service='WFS', version='1.1.0', request='GetCapabilities')\n",
        "\n",
        "# Solicitud\n",
        "response = requests.get(\"https://geos.snitcr.go.cr/be/IGN_5/wfs?\", params=params)\n",
        "\n",
        "# Despliegue del contenido de la respuesta\n",
        "#response.content"
      ],
      "metadata": {
        "id": "aMA_vcIl1JaO"
      },
      "execution_count": null,
      "outputs": []
    },
    {
      "cell_type": "code",
      "source": [
        "# Solicitud de capa WFS de Limite Cantonal mediante GET, para retornarse como JSON\n",
        "\n",
        "# Parámetros de la solicitud\n",
        "params = dict(service='WFS',\n",
        "              version='1.1.0', \n",
        "              request='GetFeature', \n",
        "              typeName='IGN_5:limitecantonal_5k',\n",
        "              srsName='urn:ogc:def:crs:EPSG::5367',\n",
        "              outputFormat='json')\n",
        "\n",
        "# Solicitud\n",
        "response = requests.get(\"https://geos.snitcr.go.cr/be/IGN_5/wfs?\", params=params)"
      ],
      "metadata": {
        "id": "j_vtF4Os15jp"
      },
      "execution_count": null,
      "outputs": []
    },
    {
      "cell_type": "code",
      "source": [
        "# Descarga de la respuesta en un archivo GeoJSON\n",
        "os.mkdir('/content/datos')\n",
        "with open('/content/datos/cantones.geojson', 'w') as file:\n",
        "   dump(response.json(), file)"
      ],
      "metadata": {
        "id": "ZYqSJL0822Dq"
      },
      "execution_count": null,
      "outputs": []
    },
    {
      "cell_type": "markdown",
      "source": [
        "### Red Vial"
      ],
      "metadata": {
        "id": "rhppybQo6WkP"
      }
    },
    {
      "cell_type": "code",
      "source": [
        "wfs = WebFeatureService(url='https://geos.snitcr.go.cr/be/IGN_200/wfs?version=1.1.0', version='1.1.0')\n",
        "#list(wfs.contents)"
      ],
      "metadata": {
        "id": "oVmZGWcw6ZRF"
      },
      "execution_count": null,
      "outputs": []
    },
    {
      "cell_type": "code",
      "source": [
        "# Título\n",
        "#wfs.identification.title"
      ],
      "metadata": {
        "id": "FRV3i_Fs6wV3"
      },
      "execution_count": null,
      "outputs": []
    },
    {
      "cell_type": "code",
      "source": [
        "# Operaciones\n",
        "#[operation.name for operation in wfs.operations]"
      ],
      "metadata": {
        "id": "LccgegRW6xq0"
      },
      "execution_count": null,
      "outputs": []
    },
    {
      "cell_type": "code",
      "source": [
        "# Solicitud de metadatos del servicio\n",
        "\n",
        "# Parámetros de la solicitud\n",
        "params = dict(service='WFS', version='1.1.0', request='GetCapabilities')\n",
        "\n",
        "# Solicitud\n",
        "response = requests.get(\"https://geos.snitcr.go.cr/be/IGN_200/wfs?version=1.1.0\", params=params)\n",
        "\n",
        "# Despliegue del contenido de la respuesta\n",
        "#response.content"
      ],
      "metadata": {
        "id": "RraZ8fbl62Vo"
      },
      "execution_count": null,
      "outputs": []
    },
    {
      "cell_type": "code",
      "source": [
        "# Solicitud de capa WFS de Red Vial mediante GET, para retornarse como JSON\n",
        "\n",
        "# Parámetros de la solicitud\n",
        "params = dict(service='WFS',\n",
        "              version='1.1.0', \n",
        "              request='GetFeature', \n",
        "              typeName='IGN_200:redvial_200k',\n",
        "              srsName='urn:ogc:def:crs:EPSG::5367',\n",
        "              outputFormat='json')\n",
        "\n",
        "# Solicitud\n",
        "response = requests.get(\"https://geos.snitcr.go.cr/be/IGN_200/wfs?version=1.1.0\", params=params)"
      ],
      "metadata": {
        "id": "auMljYiD7AM5"
      },
      "execution_count": null,
      "outputs": []
    },
    {
      "cell_type": "code",
      "source": [
        "# Descarga de la respuesta en un archivo GeoJSON\n",
        "with open('/content/datos/redvial.geojson', 'w') as file:\n",
        "   dump(response.json(), file)"
      ],
      "metadata": {
        "id": "EXdO8V_I7Ubd"
      },
      "execution_count": null,
      "outputs": []
    },
    {
      "cell_type": "markdown",
      "source": [
        "## Creación de un archivo GeoPackage con todas las capas"
      ],
      "metadata": {
        "id": "kLsGmWEc7yj0"
      }
    },
    {
      "cell_type": "code",
      "source": [
        "# Se agrega el archivo GeoJSON de asp-especies al GPKG\n",
        "\n",
        "with fiona.open('/content/datos/cantones.geojson') as source:\n",
        "    with fiona.open('/content/datos/geo_cantones.gpkg', 'w', 'GPKG', source.schema, source.crs, layer='cantones') as sink:\n",
        "        for record in source:\n",
        "            sink.write(record)"
      ],
      "metadata": {
        "id": "Edu6CEP8735u"
      },
      "execution_count": null,
      "outputs": []
    },
    {
      "cell_type": "code",
      "source": [
        "with fiona.open('/content/datos/redvial.geojson') as source:\n",
        "    with fiona.open('/content/datos/geo_redvial.gpkg', 'w', 'GPKG', source.schema, source.crs, layer='redesviales') as sink:\n",
        "        for record in source:\n",
        "            sink.write(record)"
      ],
      "metadata": {
        "id": "FizLWmtfyP-u"
      },
      "execution_count": null,
      "outputs": []
    },
    {
      "cell_type": "code",
      "source": [
        "from shapely.geometry.linestring import LineString\n",
        "\n",
        "'''\n",
        "  El nombre del cantón.                                                            ⚪\n",
        "  La longitud de las autopistas.                                                   ⚪\n",
        "  La longitud de las carreteras de pavimento de dos vías o más.                    ⚪\n",
        "  La longitud de las carreteras de pavimento de una vía.                           ⚪\n",
        "  La longitud de las carreteras sin pavimento de dos vías.                         ⚪\n",
        "  La longitud de los caminos de tierra.                                            ⚪\n",
        "  La longitud total (i.e. todos los tipos de red vial) de la red vial del cantón.  ⚪\n",
        "  La densidad total (i.e. todos los tipos de red vial) de la red vial del cantón.  ⚪\n",
        "'''\n",
        "camino_tierra = 'CAMINO DE TIERRA'\n",
        "camino_pavimento_2v = 'CARRETERA PAVIMENTO DOS VIAS O MAS'\n",
        "camino_pavimento_1v = 'CARRETERA PAVIMENTO UNA VIA'\n",
        "camino_sin_pavimento_2v = 'CARRETERA SIN PAVIMENTO DOS VIAS'\n",
        "autopista = 'AUTOPISTA'\n",
        "\n",
        "\n",
        "# Nuevo esquema que tendrá los datos de cada cantón, más la longitud de sus redes viales y la densidad\n",
        "schema = {'geometry':'Unknown',\n",
        "          'properties':{'id':'str',\n",
        "                        'canton':'str',\n",
        "                        'area':'float',\n",
        "                        'longitud':'float',\n",
        "                        'densidad':'float',\n",
        "                        'long_autopistas': 'float',\n",
        "                        'long_pavimento_1v':'float',\n",
        "                        'long_pavimento_2v':'float',\n",
        "                        'long_sin_pavimento_2v':'float',\n",
        "                        'long_tierra':'float'\n",
        "                        \n",
        "                       }}\n",
        "\n",
        "with fiona.collection('datos/geo_cantones.gpkg', 'r', layer='cantones') as cantones:\n",
        "    \n",
        "    i = 1 # contador para ver progreso\n",
        "    \n",
        "    with fiona.open('datos/redvial_por_canton.geojson','w','GeoJSON', schema, cantones.crs) as redvial_cantonal:\n",
        "    \n",
        "        for canton in cantones:\n",
        "            #print(i, canton['properties']['canton'])\n",
        "            longitud_total_por_canton = 0\n",
        "            densidad = 0\n",
        "            camino_tierra_total = 0\n",
        "            camino_pavimento_2v_total = 0\n",
        "            camino_pavimento_1v_total = 0\n",
        "            camino_sin_pavimento_2v_total = 0\n",
        "            autopista_total = 0\n",
        "            area = float(canton['properties']['area'])  \n",
        "\n",
        "            with fiona.collection('datos/geo_redvial.gpkg', 'r', layer='redesviales') as redesviales:\n",
        "                for redvial in redesviales:\n",
        "                  # Si existe una interseccion, se sumara su longitud a la longitud total dentro de ese canton\n",
        "                  if shape(redvial['geometry']).intersects(shape(canton['geometry'])):\n",
        "                    red = shape(canton['geometry']).intersection(shape(redvial['geometry']))\n",
        "                    longitud_total_por_canton += red.length\n",
        "                    if redvial['properties']['categoria'] == autopista:\n",
        "                      autopista_total += red.length\n",
        "                    elif redvial['properties']['categoria'] == camino_pavimento_2v:\n",
        "                      camino_pavimento_2v_total += red.length\n",
        "                    elif redvial['properties']['categoria'] == camino_pavimento_1v:\n",
        "                      camino_pavimento_1v_total += red.length\n",
        "                    elif redvial['properties']['categoria'] == camino_sin_pavimento_2v:\n",
        "                      camino_sin_pavimento_2v_total += red.length\n",
        "                    elif redvial['properties']['categoria'] == camino_tierra:\n",
        "                      camino_tierra_total  += red.length\n",
        "\n",
        "            i += 1\n",
        "            \n",
        "            longitud_total_por_canton = (longitud_total_por_canton / 1000) # se pasa a km\n",
        "            camino_tierra_total = camino_tierra_total/1000\n",
        "            camino_pavimento_2v_total = camino_pavimento_2v_total/1000\n",
        "            camino_pavimento_1v_total = camino_pavimento_1v_total/1000\n",
        "            camino_sin_pavimento_2v_total = camino_sin_pavimento_2v_total/1000\n",
        "            autopista_total = autopista_total/1000\n",
        "            densidad = (longitud_total_por_canton / area)   \n",
        "            #print(\" Longitud: \", str(longitud_total_por_canton))\n",
        "\n",
        "            # Se escriben los datos para la nueva capa\n",
        "            redvial_cantonal.write({\n",
        "                'properties': {\n",
        "                    'id':canton['properties']['id'],\n",
        "                    'canton':canton['properties']['canton'],\n",
        "                    'area': area,\n",
        "                    'longitud': longitud_total_por_canton,\n",
        "                    'densidad': densidad,\n",
        "                    'long_autopistas': autopista_total,\n",
        "                    'long_pavimento_1v':camino_pavimento_1v_total,\n",
        "                    'long_pavimento_2v':camino_pavimento_2v_total,\n",
        "                    'long_sin_pavimento_2v':camino_sin_pavimento_2v_total,\n",
        "                    'long_tierra':camino_tierra_total\n",
        "                },\n",
        "                'geometry':canton['geometry']\n",
        "            }) "
      ],
      "metadata": {
        "id": "u6e9aRAmuBMm"
      },
      "execution_count": null,
      "outputs": []
    },
    {
      "cell_type": "code",
      "source": [
        "# Se agrega el archivo GeoJSON final a un GeoPackage\n",
        "with fiona.open('datos/redvial_por_canton.geojson') as source:\n",
        "    with fiona.open('datos/geo_redvial_por_canton.gpkg', 'w', 'GPKG', source.schema, source.crs, layer='redvial_por_canton') as sink:\n",
        "        for record in source:\n",
        "            sink.write(record)\n"
      ],
      "metadata": {
        "id": "3zzOwPcw5gy_"
      },
      "execution_count": null,
      "outputs": []
    },
    {
      "cell_type": "markdown",
      "source": [
        "##Tabla con los 82 cantones de Costa Rica"
      ],
      "metadata": {
        "id": "g6EW0MrLNRkM"
      }
    },
    {
      "cell_type": "code",
      "source": [
        "# Cargar el GeoJason en un dataframe de pandas\n",
        "pandas_file = gpad.read_file('datos/redvial_por_canton.geojson')\n",
        "#Tabla de pandas con las columnas específicas\n",
        "pandas_file[['canton', 'area','longitud','densidad','long_autopistas','long_pavimento_1v','long_pavimento_2v','long_sin_pavimento_2v','long_tierra']]"
      ],
      "metadata": {
        "colab": {
          "base_uri": "https://localhost:8080/",
          "height": 467
        },
        "id": "NKPa0JjmNUUY",
        "outputId": "77daa4fb-510f-4743-a812-49c27ff930de"
      },
      "execution_count": null,
      "outputs": [
        {
          "output_type": "execute_result",
          "data": {
            "text/html": [
              "\n",
              "  <div id=\"df-95683dac-c182-4afb-b273-36923ae09463\">\n",
              "    <div class=\"colab-df-container\">\n",
              "      <div>\n",
              "<style scoped>\n",
              "    .dataframe tbody tr th:only-of-type {\n",
              "        vertical-align: middle;\n",
              "    }\n",
              "\n",
              "    .dataframe tbody tr th {\n",
              "        vertical-align: top;\n",
              "    }\n",
              "\n",
              "    .dataframe thead th {\n",
              "        text-align: right;\n",
              "    }\n",
              "</style>\n",
              "<table border=\"1\" class=\"dataframe\">\n",
              "  <thead>\n",
              "    <tr style=\"text-align: right;\">\n",
              "      <th></th>\n",
              "      <th>canton</th>\n",
              "      <th>area</th>\n",
              "      <th>longitud</th>\n",
              "      <th>densidad</th>\n",
              "      <th>long_autopistas</th>\n",
              "      <th>long_pavimento_1v</th>\n",
              "      <th>long_pavimento_2v</th>\n",
              "      <th>long_sin_pavimento_2v</th>\n",
              "      <th>long_tierra</th>\n",
              "    </tr>\n",
              "  </thead>\n",
              "  <tbody>\n",
              "    <tr>\n",
              "      <th>0</th>\n",
              "      <td>Corredores</td>\n",
              "      <td>623.61</td>\n",
              "      <td>495.824322</td>\n",
              "      <td>0.795087</td>\n",
              "      <td>0.0</td>\n",
              "      <td>99.151474</td>\n",
              "      <td>130.679910</td>\n",
              "      <td>12.139449</td>\n",
              "      <td>253.853488</td>\n",
              "    </tr>\n",
              "    <tr>\n",
              "      <th>1</th>\n",
              "      <td>Golfito</td>\n",
              "      <td>1752.75</td>\n",
              "      <td>602.680436</td>\n",
              "      <td>0.343848</td>\n",
              "      <td>0.0</td>\n",
              "      <td>127.669233</td>\n",
              "      <td>80.781497</td>\n",
              "      <td>72.046381</td>\n",
              "      <td>322.183324</td>\n",
              "    </tr>\n",
              "    <tr>\n",
              "      <th>2</th>\n",
              "      <td>Coto Brus</td>\n",
              "      <td>944.24</td>\n",
              "      <td>747.302687</td>\n",
              "      <td>0.791433</td>\n",
              "      <td>0.0</td>\n",
              "      <td>369.560745</td>\n",
              "      <td>108.759457</td>\n",
              "      <td>0.000000</td>\n",
              "      <td>268.982485</td>\n",
              "    </tr>\n",
              "    <tr>\n",
              "      <th>3</th>\n",
              "      <td>Osa</td>\n",
              "      <td>1932.70</td>\n",
              "      <td>678.898893</td>\n",
              "      <td>0.351270</td>\n",
              "      <td>0.0</td>\n",
              "      <td>153.449033</td>\n",
              "      <td>134.506071</td>\n",
              "      <td>55.998104</td>\n",
              "      <td>334.945685</td>\n",
              "    </tr>\n",
              "    <tr>\n",
              "      <th>4</th>\n",
              "      <td>Buenos Aires</td>\n",
              "      <td>2382.94</td>\n",
              "      <td>1297.086045</td>\n",
              "      <td>0.544322</td>\n",
              "      <td>0.0</td>\n",
              "      <td>434.423277</td>\n",
              "      <td>170.930288</td>\n",
              "      <td>0.000000</td>\n",
              "      <td>691.732481</td>\n",
              "    </tr>\n",
              "    <tr>\n",
              "      <th>...</th>\n",
              "      <td>...</td>\n",
              "      <td>...</td>\n",
              "      <td>...</td>\n",
              "      <td>...</td>\n",
              "      <td>...</td>\n",
              "      <td>...</td>\n",
              "      <td>...</td>\n",
              "      <td>...</td>\n",
              "      <td>...</td>\n",
              "    </tr>\n",
              "    <tr>\n",
              "      <th>77</th>\n",
              "      <td>Guatuso</td>\n",
              "      <td>752.83</td>\n",
              "      <td>308.730568</td>\n",
              "      <td>0.410093</td>\n",
              "      <td>0.0</td>\n",
              "      <td>76.574171</td>\n",
              "      <td>19.648571</td>\n",
              "      <td>0.000000</td>\n",
              "      <td>212.507827</td>\n",
              "    </tr>\n",
              "    <tr>\n",
              "      <th>78</th>\n",
              "      <td>Los Chiles</td>\n",
              "      <td>1332.71</td>\n",
              "      <td>776.987780</td>\n",
              "      <td>0.583013</td>\n",
              "      <td>0.0</td>\n",
              "      <td>228.786538</td>\n",
              "      <td>114.471868</td>\n",
              "      <td>0.000000</td>\n",
              "      <td>433.729374</td>\n",
              "    </tr>\n",
              "    <tr>\n",
              "      <th>79</th>\n",
              "      <td>Liberia</td>\n",
              "      <td>1442.17</td>\n",
              "      <td>1070.443021</td>\n",
              "      <td>0.742245</td>\n",
              "      <td>0.0</td>\n",
              "      <td>278.803923</td>\n",
              "      <td>39.948298</td>\n",
              "      <td>0.000000</td>\n",
              "      <td>751.690800</td>\n",
              "    </tr>\n",
              "    <tr>\n",
              "      <th>80</th>\n",
              "      <td>Upala</td>\n",
              "      <td>1592.67</td>\n",
              "      <td>770.134477</td>\n",
              "      <td>0.483549</td>\n",
              "      <td>0.0</td>\n",
              "      <td>418.678393</td>\n",
              "      <td>9.263710</td>\n",
              "      <td>2.904216</td>\n",
              "      <td>339.288158</td>\n",
              "    </tr>\n",
              "    <tr>\n",
              "      <th>81</th>\n",
              "      <td>La Cruz</td>\n",
              "      <td>1385.38</td>\n",
              "      <td>714.138386</td>\n",
              "      <td>0.515482</td>\n",
              "      <td>0.0</td>\n",
              "      <td>128.665625</td>\n",
              "      <td>46.075620</td>\n",
              "      <td>4.303194</td>\n",
              "      <td>535.093947</td>\n",
              "    </tr>\n",
              "  </tbody>\n",
              "</table>\n",
              "<p>82 rows × 9 columns</p>\n",
              "</div>\n",
              "      <button class=\"colab-df-convert\" onclick=\"convertToInteractive('df-95683dac-c182-4afb-b273-36923ae09463')\"\n",
              "              title=\"Convert this dataframe to an interactive table.\"\n",
              "              style=\"display:none;\">\n",
              "        \n",
              "  <svg xmlns=\"http://www.w3.org/2000/svg\" height=\"24px\"viewBox=\"0 0 24 24\"\n",
              "       width=\"24px\">\n",
              "    <path d=\"M0 0h24v24H0V0z\" fill=\"none\"/>\n",
              "    <path d=\"M18.56 5.44l.94 2.06.94-2.06 2.06-.94-2.06-.94-.94-2.06-.94 2.06-2.06.94zm-11 1L8.5 8.5l.94-2.06 2.06-.94-2.06-.94L8.5 2.5l-.94 2.06-2.06.94zm10 10l.94 2.06.94-2.06 2.06-.94-2.06-.94-.94-2.06-.94 2.06-2.06.94z\"/><path d=\"M17.41 7.96l-1.37-1.37c-.4-.4-.92-.59-1.43-.59-.52 0-1.04.2-1.43.59L10.3 9.45l-7.72 7.72c-.78.78-.78 2.05 0 2.83L4 21.41c.39.39.9.59 1.41.59.51 0 1.02-.2 1.41-.59l7.78-7.78 2.81-2.81c.8-.78.8-2.07 0-2.86zM5.41 20L4 18.59l7.72-7.72 1.47 1.35L5.41 20z\"/>\n",
              "  </svg>\n",
              "      </button>\n",
              "      \n",
              "  <style>\n",
              "    .colab-df-container {\n",
              "      display:flex;\n",
              "      flex-wrap:wrap;\n",
              "      gap: 12px;\n",
              "    }\n",
              "\n",
              "    .colab-df-convert {\n",
              "      background-color: #E8F0FE;\n",
              "      border: none;\n",
              "      border-radius: 50%;\n",
              "      cursor: pointer;\n",
              "      display: none;\n",
              "      fill: #1967D2;\n",
              "      height: 32px;\n",
              "      padding: 0 0 0 0;\n",
              "      width: 32px;\n",
              "    }\n",
              "\n",
              "    .colab-df-convert:hover {\n",
              "      background-color: #E2EBFA;\n",
              "      box-shadow: 0px 1px 2px rgba(60, 64, 67, 0.3), 0px 1px 3px 1px rgba(60, 64, 67, 0.15);\n",
              "      fill: #174EA6;\n",
              "    }\n",
              "\n",
              "    [theme=dark] .colab-df-convert {\n",
              "      background-color: #3B4455;\n",
              "      fill: #D2E3FC;\n",
              "    }\n",
              "\n",
              "    [theme=dark] .colab-df-convert:hover {\n",
              "      background-color: #434B5C;\n",
              "      box-shadow: 0px 1px 3px 1px rgba(0, 0, 0, 0.15);\n",
              "      filter: drop-shadow(0px 1px 2px rgba(0, 0, 0, 0.3));\n",
              "      fill: #FFFFFF;\n",
              "    }\n",
              "  </style>\n",
              "\n",
              "      <script>\n",
              "        const buttonEl =\n",
              "          document.querySelector('#df-95683dac-c182-4afb-b273-36923ae09463 button.colab-df-convert');\n",
              "        buttonEl.style.display =\n",
              "          google.colab.kernel.accessAllowed ? 'block' : 'none';\n",
              "\n",
              "        async function convertToInteractive(key) {\n",
              "          const element = document.querySelector('#df-95683dac-c182-4afb-b273-36923ae09463');\n",
              "          const dataTable =\n",
              "            await google.colab.kernel.invokeFunction('convertToInteractive',\n",
              "                                                     [key], {});\n",
              "          if (!dataTable) return;\n",
              "\n",
              "          const docLinkHtml = 'Like what you see? Visit the ' +\n",
              "            '<a target=\"_blank\" href=https://colab.research.google.com/notebooks/data_table.ipynb>data table notebook</a>'\n",
              "            + ' to learn more about interactive tables.';\n",
              "          element.innerHTML = '';\n",
              "          dataTable['output_type'] = 'display_data';\n",
              "          await google.colab.output.renderOutput(dataTable, element);\n",
              "          const docLink = document.createElement('div');\n",
              "          docLink.innerHTML = docLinkHtml;\n",
              "          element.appendChild(docLink);\n",
              "        }\n",
              "      </script>\n",
              "    </div>\n",
              "  </div>\n",
              "  "
            ],
            "text/plain": [
              "          canton     area  ...  long_sin_pavimento_2v  long_tierra\n",
              "0     Corredores   623.61  ...              12.139449   253.853488\n",
              "1        Golfito  1752.75  ...              72.046381   322.183324\n",
              "2      Coto Brus   944.24  ...               0.000000   268.982485\n",
              "3            Osa  1932.70  ...              55.998104   334.945685\n",
              "4   Buenos Aires  2382.94  ...               0.000000   691.732481\n",
              "..           ...      ...  ...                    ...          ...\n",
              "77       Guatuso   752.83  ...               0.000000   212.507827\n",
              "78    Los Chiles  1332.71  ...               0.000000   433.729374\n",
              "79       Liberia  1442.17  ...               0.000000   751.690800\n",
              "80         Upala  1592.67  ...               2.904216   339.288158\n",
              "81       La Cruz  1385.38  ...               4.303194   535.093947\n",
              "\n",
              "[82 rows x 9 columns]"
            ]
          },
          "metadata": {},
          "execution_count": 19
        }
      ]
    },
    {
      "cell_type": "markdown",
      "source": [
        "##Gráfico plotly de barras "
      ],
      "metadata": {
        "id": "1newgcJEEqWN"
      }
    },
    {
      "cell_type": "code",
      "source": [
        "#Extraer las 15 cantones de mayor longitud total de red vial\n",
        "# Dataframe filtrado para usar en graficación\n",
        "longitud_grafico = pandas_file[['canton', 'longitud','long_autopistas','long_pavimento_1v','long_pavimento_2v','long_sin_pavimento_2v','long_tierra']].sort_values(\"longitud\", ascending=[False]).head(15)\n",
        "#Gráfico plotly de barras apiladas \n",
        "fig = px.bar(longitud_grafico, x=\"canton\", y=['long_autopistas','long_pavimento_1v','long_pavimento_2v','long_sin_pavimento_2v','long_tierra'], title=\"Cantones de mayor longitud total de red vial\")\n",
        "fig.show()"
      ],
      "metadata": {
        "colab": {
          "base_uri": "https://localhost:8080/",
          "height": 542
        },
        "id": "mGmW5_Pw-imj",
        "outputId": "950257a3-1f14-4bed-af20-cd7f5b162cee"
      },
      "execution_count": null,
      "outputs": [
        {
          "output_type": "display_data",
          "data": {
            "text/html": [
              "<html>\n",
              "<head><meta charset=\"utf-8\" /></head>\n",
              "<body>\n",
              "    <div>            <script src=\"https://cdnjs.cloudflare.com/ajax/libs/mathjax/2.7.5/MathJax.js?config=TeX-AMS-MML_SVG\"></script><script type=\"text/javascript\">if (window.MathJax) {MathJax.Hub.Config({SVG: {font: \"STIX-Web\"}});}</script>                <script type=\"text/javascript\">window.PlotlyConfig = {MathJaxConfig: 'local'};</script>\n",
              "        <script src=\"https://cdn.plot.ly/plotly-2.8.3.min.js\"></script>                <div id=\"7c072615-747e-471a-ba6a-25020e5dd592\" class=\"plotly-graph-div\" style=\"height:525px; width:100%;\"></div>            <script type=\"text/javascript\">                                    window.PLOTLYENV=window.PLOTLYENV || {};                                    if (document.getElementById(\"7c072615-747e-471a-ba6a-25020e5dd592\")) {                    Plotly.newPlot(                        \"7c072615-747e-471a-ba6a-25020e5dd592\",                        [{\"alignmentgroup\":\"True\",\"hovertemplate\":\"variable=long_autopistas<br>canton=%{x}<br>value=%{y}<extra></extra>\",\"legendgroup\":\"long_autopistas\",\"marker\":{\"color\":\"#636efa\",\"pattern\":{\"shape\":\"\"}},\"name\":\"long_autopistas\",\"offsetgroup\":\"long_autopistas\",\"orientation\":\"v\",\"showlegend\":true,\"textposition\":\"auto\",\"x\":[\"San Carlos\",\"P\\u00e9rez Zeled\\u00f3n\",\"Puntarenas\",\"Buenos Aires\",\"Sarapiqu\\u00ed\",\"Liberia\",\"Pococ\\u00ed\",\"Nicoya\",\"Santa Cruz\",\"Bagaces\",\"Los Chiles\",\"Upala\",\"Coto Brus\",\"La Cruz\",\"Turrialba\"],\"xaxis\":\"x\",\"y\":[0.0,0.0,0.0,0.0,0.0,0.0,0.0,0.0,0.0,0.0,0.0,0.0,0.0,0.0,0.0],\"yaxis\":\"y\",\"type\":\"bar\"},{\"alignmentgroup\":\"True\",\"hovertemplate\":\"variable=long_pavimento_1v<br>canton=%{x}<br>value=%{y}<extra></extra>\",\"legendgroup\":\"long_pavimento_1v\",\"marker\":{\"color\":\"#EF553B\",\"pattern\":{\"shape\":\"\"}},\"name\":\"long_pavimento_1v\",\"offsetgroup\":\"long_pavimento_1v\",\"orientation\":\"v\",\"showlegend\":true,\"textposition\":\"auto\",\"x\":[\"San Carlos\",\"P\\u00e9rez Zeled\\u00f3n\",\"Puntarenas\",\"Buenos Aires\",\"Sarapiqu\\u00ed\",\"Liberia\",\"Pococ\\u00ed\",\"Nicoya\",\"Santa Cruz\",\"Bagaces\",\"Los Chiles\",\"Upala\",\"Coto Brus\",\"La Cruz\",\"Turrialba\"],\"xaxis\":\"x\",\"y\":[797.0924552214426,573.2280876270825,437.80888681195484,434.4232765234087,431.4883399276308,278.8039229158464,359.4347445966712,332.02756347272987,302.7560284733636,142.39207679288458,228.78653774746738,418.6783927827397,369.5607448620704,128.6656249396207,270.8278688015168],\"yaxis\":\"y\",\"type\":\"bar\"},{\"alignmentgroup\":\"True\",\"hovertemplate\":\"variable=long_pavimento_2v<br>canton=%{x}<br>value=%{y}<extra></extra>\",\"legendgroup\":\"long_pavimento_2v\",\"marker\":{\"color\":\"#00cc96\",\"pattern\":{\"shape\":\"\"}},\"name\":\"long_pavimento_2v\",\"offsetgroup\":\"long_pavimento_2v\",\"orientation\":\"v\",\"showlegend\":true,\"textposition\":\"auto\",\"x\":[\"San Carlos\",\"P\\u00e9rez Zeled\\u00f3n\",\"Puntarenas\",\"Buenos Aires\",\"Sarapiqu\\u00ed\",\"Liberia\",\"Pococ\\u00ed\",\"Nicoya\",\"Santa Cruz\",\"Bagaces\",\"Los Chiles\",\"Upala\",\"Coto Brus\",\"La Cruz\",\"Turrialba\"],\"xaxis\":\"x\",\"y\":[112.48258294434979,316.75037308575486,0.0,170.93028801282915,110.71756911982553,39.94829800650129,132.56097017967485,20.65773174339661,0.0,29.012149355902288,114.47186758519727,9.263710333942221,108.75945713094353,46.0756199479687,143.5829245899975],\"yaxis\":\"y\",\"type\":\"bar\"},{\"alignmentgroup\":\"True\",\"hovertemplate\":\"variable=long_sin_pavimento_2v<br>canton=%{x}<br>value=%{y}<extra></extra>\",\"legendgroup\":\"long_sin_pavimento_2v\",\"marker\":{\"color\":\"#ab63fa\",\"pattern\":{\"shape\":\"\"}},\"name\":\"long_sin_pavimento_2v\",\"offsetgroup\":\"long_sin_pavimento_2v\",\"orientation\":\"v\",\"showlegend\":true,\"textposition\":\"auto\",\"x\":[\"San Carlos\",\"P\\u00e9rez Zeled\\u00f3n\",\"Puntarenas\",\"Buenos Aires\",\"Sarapiqu\\u00ed\",\"Liberia\",\"Pococ\\u00ed\",\"Nicoya\",\"Santa Cruz\",\"Bagaces\",\"Los Chiles\",\"Upala\",\"Coto Brus\",\"La Cruz\",\"Turrialba\"],\"xaxis\":\"x\",\"y\":[0.0,14.918528394852885,0.0,0.0,0.0,0.0,153.6328917505707,0.0,0.0,0.0,0.0,2.9042162856276748,0.0,4.303193843929306,22.05383607592845],\"yaxis\":\"y\",\"type\":\"bar\"},{\"alignmentgroup\":\"True\",\"hovertemplate\":\"variable=long_tierra<br>canton=%{x}<br>value=%{y}<extra></extra>\",\"legendgroup\":\"long_tierra\",\"marker\":{\"color\":\"#FFA15A\",\"pattern\":{\"shape\":\"\"}},\"name\":\"long_tierra\",\"offsetgroup\":\"long_tierra\",\"orientation\":\"v\",\"showlegend\":true,\"textposition\":\"auto\",\"x\":[\"San Carlos\",\"P\\u00e9rez Zeled\\u00f3n\",\"Puntarenas\",\"Buenos Aires\",\"Sarapiqu\\u00ed\",\"Liberia\",\"Pococ\\u00ed\",\"Nicoya\",\"Santa Cruz\",\"Bagaces\",\"Los Chiles\",\"Upala\",\"Coto Brus\",\"La Cruz\",\"Turrialba\"],\"xaxis\":\"x\",\"y\":[1681.4853438998607,524.6636429653457,930.3539071576339,691.7324806275248,561.1475177631544,751.690800395117,412.392895759847,629.4930671588829,662.4226966684149,676.136482095594,433.7293743062103,339.2881575953783,268.9824851587081,535.0939468445305,251.6199243370443],\"yaxis\":\"y\",\"type\":\"bar\"}],                        {\"template\":{\"data\":{\"bar\":[{\"error_x\":{\"color\":\"#2a3f5f\"},\"error_y\":{\"color\":\"#2a3f5f\"},\"marker\":{\"line\":{\"color\":\"#E5ECF6\",\"width\":0.5},\"pattern\":{\"fillmode\":\"overlay\",\"size\":10,\"solidity\":0.2}},\"type\":\"bar\"}],\"barpolar\":[{\"marker\":{\"line\":{\"color\":\"#E5ECF6\",\"width\":0.5},\"pattern\":{\"fillmode\":\"overlay\",\"size\":10,\"solidity\":0.2}},\"type\":\"barpolar\"}],\"carpet\":[{\"aaxis\":{\"endlinecolor\":\"#2a3f5f\",\"gridcolor\":\"white\",\"linecolor\":\"white\",\"minorgridcolor\":\"white\",\"startlinecolor\":\"#2a3f5f\"},\"baxis\":{\"endlinecolor\":\"#2a3f5f\",\"gridcolor\":\"white\",\"linecolor\":\"white\",\"minorgridcolor\":\"white\",\"startlinecolor\":\"#2a3f5f\"},\"type\":\"carpet\"}],\"choropleth\":[{\"colorbar\":{\"outlinewidth\":0,\"ticks\":\"\"},\"type\":\"choropleth\"}],\"contour\":[{\"colorbar\":{\"outlinewidth\":0,\"ticks\":\"\"},\"colorscale\":[[0.0,\"#0d0887\"],[0.1111111111111111,\"#46039f\"],[0.2222222222222222,\"#7201a8\"],[0.3333333333333333,\"#9c179e\"],[0.4444444444444444,\"#bd3786\"],[0.5555555555555556,\"#d8576b\"],[0.6666666666666666,\"#ed7953\"],[0.7777777777777778,\"#fb9f3a\"],[0.8888888888888888,\"#fdca26\"],[1.0,\"#f0f921\"]],\"type\":\"contour\"}],\"contourcarpet\":[{\"colorbar\":{\"outlinewidth\":0,\"ticks\":\"\"},\"type\":\"contourcarpet\"}],\"heatmap\":[{\"colorbar\":{\"outlinewidth\":0,\"ticks\":\"\"},\"colorscale\":[[0.0,\"#0d0887\"],[0.1111111111111111,\"#46039f\"],[0.2222222222222222,\"#7201a8\"],[0.3333333333333333,\"#9c179e\"],[0.4444444444444444,\"#bd3786\"],[0.5555555555555556,\"#d8576b\"],[0.6666666666666666,\"#ed7953\"],[0.7777777777777778,\"#fb9f3a\"],[0.8888888888888888,\"#fdca26\"],[1.0,\"#f0f921\"]],\"type\":\"heatmap\"}],\"heatmapgl\":[{\"colorbar\":{\"outlinewidth\":0,\"ticks\":\"\"},\"colorscale\":[[0.0,\"#0d0887\"],[0.1111111111111111,\"#46039f\"],[0.2222222222222222,\"#7201a8\"],[0.3333333333333333,\"#9c179e\"],[0.4444444444444444,\"#bd3786\"],[0.5555555555555556,\"#d8576b\"],[0.6666666666666666,\"#ed7953\"],[0.7777777777777778,\"#fb9f3a\"],[0.8888888888888888,\"#fdca26\"],[1.0,\"#f0f921\"]],\"type\":\"heatmapgl\"}],\"histogram\":[{\"marker\":{\"pattern\":{\"fillmode\":\"overlay\",\"size\":10,\"solidity\":0.2}},\"type\":\"histogram\"}],\"histogram2d\":[{\"colorbar\":{\"outlinewidth\":0,\"ticks\":\"\"},\"colorscale\":[[0.0,\"#0d0887\"],[0.1111111111111111,\"#46039f\"],[0.2222222222222222,\"#7201a8\"],[0.3333333333333333,\"#9c179e\"],[0.4444444444444444,\"#bd3786\"],[0.5555555555555556,\"#d8576b\"],[0.6666666666666666,\"#ed7953\"],[0.7777777777777778,\"#fb9f3a\"],[0.8888888888888888,\"#fdca26\"],[1.0,\"#f0f921\"]],\"type\":\"histogram2d\"}],\"histogram2dcontour\":[{\"colorbar\":{\"outlinewidth\":0,\"ticks\":\"\"},\"colorscale\":[[0.0,\"#0d0887\"],[0.1111111111111111,\"#46039f\"],[0.2222222222222222,\"#7201a8\"],[0.3333333333333333,\"#9c179e\"],[0.4444444444444444,\"#bd3786\"],[0.5555555555555556,\"#d8576b\"],[0.6666666666666666,\"#ed7953\"],[0.7777777777777778,\"#fb9f3a\"],[0.8888888888888888,\"#fdca26\"],[1.0,\"#f0f921\"]],\"type\":\"histogram2dcontour\"}],\"mesh3d\":[{\"colorbar\":{\"outlinewidth\":0,\"ticks\":\"\"},\"type\":\"mesh3d\"}],\"parcoords\":[{\"line\":{\"colorbar\":{\"outlinewidth\":0,\"ticks\":\"\"}},\"type\":\"parcoords\"}],\"pie\":[{\"automargin\":true,\"type\":\"pie\"}],\"scatter\":[{\"marker\":{\"colorbar\":{\"outlinewidth\":0,\"ticks\":\"\"}},\"type\":\"scatter\"}],\"scatter3d\":[{\"line\":{\"colorbar\":{\"outlinewidth\":0,\"ticks\":\"\"}},\"marker\":{\"colorbar\":{\"outlinewidth\":0,\"ticks\":\"\"}},\"type\":\"scatter3d\"}],\"scattercarpet\":[{\"marker\":{\"colorbar\":{\"outlinewidth\":0,\"ticks\":\"\"}},\"type\":\"scattercarpet\"}],\"scattergeo\":[{\"marker\":{\"colorbar\":{\"outlinewidth\":0,\"ticks\":\"\"}},\"type\":\"scattergeo\"}],\"scattergl\":[{\"marker\":{\"colorbar\":{\"outlinewidth\":0,\"ticks\":\"\"}},\"type\":\"scattergl\"}],\"scattermapbox\":[{\"marker\":{\"colorbar\":{\"outlinewidth\":0,\"ticks\":\"\"}},\"type\":\"scattermapbox\"}],\"scatterpolar\":[{\"marker\":{\"colorbar\":{\"outlinewidth\":0,\"ticks\":\"\"}},\"type\":\"scatterpolar\"}],\"scatterpolargl\":[{\"marker\":{\"colorbar\":{\"outlinewidth\":0,\"ticks\":\"\"}},\"type\":\"scatterpolargl\"}],\"scatterternary\":[{\"marker\":{\"colorbar\":{\"outlinewidth\":0,\"ticks\":\"\"}},\"type\":\"scatterternary\"}],\"surface\":[{\"colorbar\":{\"outlinewidth\":0,\"ticks\":\"\"},\"colorscale\":[[0.0,\"#0d0887\"],[0.1111111111111111,\"#46039f\"],[0.2222222222222222,\"#7201a8\"],[0.3333333333333333,\"#9c179e\"],[0.4444444444444444,\"#bd3786\"],[0.5555555555555556,\"#d8576b\"],[0.6666666666666666,\"#ed7953\"],[0.7777777777777778,\"#fb9f3a\"],[0.8888888888888888,\"#fdca26\"],[1.0,\"#f0f921\"]],\"type\":\"surface\"}],\"table\":[{\"cells\":{\"fill\":{\"color\":\"#EBF0F8\"},\"line\":{\"color\":\"white\"}},\"header\":{\"fill\":{\"color\":\"#C8D4E3\"},\"line\":{\"color\":\"white\"}},\"type\":\"table\"}]},\"layout\":{\"annotationdefaults\":{\"arrowcolor\":\"#2a3f5f\",\"arrowhead\":0,\"arrowwidth\":1},\"autotypenumbers\":\"strict\",\"coloraxis\":{\"colorbar\":{\"outlinewidth\":0,\"ticks\":\"\"}},\"colorscale\":{\"diverging\":[[0,\"#8e0152\"],[0.1,\"#c51b7d\"],[0.2,\"#de77ae\"],[0.3,\"#f1b6da\"],[0.4,\"#fde0ef\"],[0.5,\"#f7f7f7\"],[0.6,\"#e6f5d0\"],[0.7,\"#b8e186\"],[0.8,\"#7fbc41\"],[0.9,\"#4d9221\"],[1,\"#276419\"]],\"sequential\":[[0.0,\"#0d0887\"],[0.1111111111111111,\"#46039f\"],[0.2222222222222222,\"#7201a8\"],[0.3333333333333333,\"#9c179e\"],[0.4444444444444444,\"#bd3786\"],[0.5555555555555556,\"#d8576b\"],[0.6666666666666666,\"#ed7953\"],[0.7777777777777778,\"#fb9f3a\"],[0.8888888888888888,\"#fdca26\"],[1.0,\"#f0f921\"]],\"sequentialminus\":[[0.0,\"#0d0887\"],[0.1111111111111111,\"#46039f\"],[0.2222222222222222,\"#7201a8\"],[0.3333333333333333,\"#9c179e\"],[0.4444444444444444,\"#bd3786\"],[0.5555555555555556,\"#d8576b\"],[0.6666666666666666,\"#ed7953\"],[0.7777777777777778,\"#fb9f3a\"],[0.8888888888888888,\"#fdca26\"],[1.0,\"#f0f921\"]]},\"colorway\":[\"#636efa\",\"#EF553B\",\"#00cc96\",\"#ab63fa\",\"#FFA15A\",\"#19d3f3\",\"#FF6692\",\"#B6E880\",\"#FF97FF\",\"#FECB52\"],\"font\":{\"color\":\"#2a3f5f\"},\"geo\":{\"bgcolor\":\"white\",\"lakecolor\":\"white\",\"landcolor\":\"#E5ECF6\",\"showlakes\":true,\"showland\":true,\"subunitcolor\":\"white\"},\"hoverlabel\":{\"align\":\"left\"},\"hovermode\":\"closest\",\"mapbox\":{\"style\":\"light\"},\"paper_bgcolor\":\"white\",\"plot_bgcolor\":\"#E5ECF6\",\"polar\":{\"angularaxis\":{\"gridcolor\":\"white\",\"linecolor\":\"white\",\"ticks\":\"\"},\"bgcolor\":\"#E5ECF6\",\"radialaxis\":{\"gridcolor\":\"white\",\"linecolor\":\"white\",\"ticks\":\"\"}},\"scene\":{\"xaxis\":{\"backgroundcolor\":\"#E5ECF6\",\"gridcolor\":\"white\",\"gridwidth\":2,\"linecolor\":\"white\",\"showbackground\":true,\"ticks\":\"\",\"zerolinecolor\":\"white\"},\"yaxis\":{\"backgroundcolor\":\"#E5ECF6\",\"gridcolor\":\"white\",\"gridwidth\":2,\"linecolor\":\"white\",\"showbackground\":true,\"ticks\":\"\",\"zerolinecolor\":\"white\"},\"zaxis\":{\"backgroundcolor\":\"#E5ECF6\",\"gridcolor\":\"white\",\"gridwidth\":2,\"linecolor\":\"white\",\"showbackground\":true,\"ticks\":\"\",\"zerolinecolor\":\"white\"}},\"shapedefaults\":{\"line\":{\"color\":\"#2a3f5f\"}},\"ternary\":{\"aaxis\":{\"gridcolor\":\"white\",\"linecolor\":\"white\",\"ticks\":\"\"},\"baxis\":{\"gridcolor\":\"white\",\"linecolor\":\"white\",\"ticks\":\"\"},\"bgcolor\":\"#E5ECF6\",\"caxis\":{\"gridcolor\":\"white\",\"linecolor\":\"white\",\"ticks\":\"\"}},\"title\":{\"x\":0.05},\"xaxis\":{\"automargin\":true,\"gridcolor\":\"white\",\"linecolor\":\"white\",\"ticks\":\"\",\"title\":{\"standoff\":15},\"zerolinecolor\":\"white\",\"zerolinewidth\":2},\"yaxis\":{\"automargin\":true,\"gridcolor\":\"white\",\"linecolor\":\"white\",\"ticks\":\"\",\"title\":{\"standoff\":15},\"zerolinecolor\":\"white\",\"zerolinewidth\":2}}},\"xaxis\":{\"anchor\":\"y\",\"domain\":[0.0,1.0],\"title\":{\"text\":\"canton\"}},\"yaxis\":{\"anchor\":\"x\",\"domain\":[0.0,1.0],\"title\":{\"text\":\"value\"}},\"legend\":{\"title\":{\"text\":\"variable\"},\"tracegroupgap\":0},\"title\":{\"text\":\"Cantones de mayor longitud total de red vial\"},\"barmode\":\"relative\"},                        {\"responsive\": true}                    ).then(function(){\n",
              "                            \n",
              "var gd = document.getElementById('7c072615-747e-471a-ba6a-25020e5dd592');\n",
              "var x = new MutationObserver(function (mutations, observer) {{\n",
              "        var display = window.getComputedStyle(gd).display;\n",
              "        if (!display || display === 'none') {{\n",
              "            console.log([gd, 'removed!']);\n",
              "            Plotly.purge(gd);\n",
              "            observer.disconnect();\n",
              "        }}\n",
              "}});\n",
              "\n",
              "// Listen for the removal of the full notebook cells\n",
              "var notebookContainer = gd.closest('#notebook-container');\n",
              "if (notebookContainer) {{\n",
              "    x.observe(notebookContainer, {childList: true});\n",
              "}}\n",
              "\n",
              "// Listen for the clearing of the current output cell\n",
              "var outputEl = gd.closest('.output');\n",
              "if (outputEl) {{\n",
              "    x.observe(outputEl, {childList: true});\n",
              "}}\n",
              "\n",
              "                        })                };                            </script>        </div>\n",
              "</body>\n",
              "</html>"
            ]
          },
          "metadata": {}
        }
      ]
    },
    {
      "cell_type": "markdown",
      "source": [
        "##Gráfico plotly de pastel \n",
        "\n",
        "Porcentaje de red vial de los 15 cantones de mayor longitud total de la red vial, con respecto a la longitud de la red vial en todo el país.\n",
        "La porción (slice) adicional en el gráfico de pastel llamada “Otros cantones”, correspondiente al porcentaje de la suma de la red vial en los 67 cantones restantes.\""
      ],
      "metadata": {
        "id": "pxwFwc5HEwl0"
      }
    },
    {
      "cell_type": "code",
      "source": [
        "#ordenar los valores por longitud\n",
        "pastel = pandas_file[['canton', 'longitud']].sort_values(\"longitud\", ascending=[False])\n",
        "#reset al index\n",
        "pastel = pastel.reset_index()\n",
        "#extraer la longitud de valor 15\n",
        "longitud_15= pastel['longitud'].loc[14]\n",
        "#cambiar el canton a los siguientes valores luego del 15\n",
        "pastel.loc[pastel['longitud'] < longitud_15 , 'canton'] = 'Otros cantones' \n",
        "#Gráfico plotly de pastel \n",
        "fig = px.pie(pastel, values='longitud', names='canton', title='Porcentaje de los 15 cantones de mayor longitud total de la red vial en el país')\n",
        "fig.show()"
      ],
      "metadata": {
        "colab": {
          "base_uri": "https://localhost:8080/",
          "height": 542
        },
        "id": "282njMVyD7wW",
        "outputId": "dd2ceb56-0cd4-47da-afbe-e255ed11eca9"
      },
      "execution_count": null,
      "outputs": [
        {
          "output_type": "display_data",
          "data": {
            "text/html": [
              "<html>\n",
              "<head><meta charset=\"utf-8\" /></head>\n",
              "<body>\n",
              "    <div>            <script src=\"https://cdnjs.cloudflare.com/ajax/libs/mathjax/2.7.5/MathJax.js?config=TeX-AMS-MML_SVG\"></script><script type=\"text/javascript\">if (window.MathJax) {MathJax.Hub.Config({SVG: {font: \"STIX-Web\"}});}</script>                <script type=\"text/javascript\">window.PlotlyConfig = {MathJaxConfig: 'local'};</script>\n",
              "        <script src=\"https://cdn.plot.ly/plotly-2.8.3.min.js\"></script>                <div id=\"7a618a7a-d7c1-42f0-9302-bfbca622c5f6\" class=\"plotly-graph-div\" style=\"height:525px; width:100%;\"></div>            <script type=\"text/javascript\">                                    window.PLOTLYENV=window.PLOTLYENV || {};                                    if (document.getElementById(\"7a618a7a-d7c1-42f0-9302-bfbca622c5f6\")) {                    Plotly.newPlot(                        \"7a618a7a-d7c1-42f0-9302-bfbca622c5f6\",                        [{\"domain\":{\"x\":[0.0,1.0],\"y\":[0.0,1.0]},\"hovertemplate\":\"canton=%{label}<br>longitud=%{value}<extra></extra>\",\"labels\":[\"San Carlos\",\"P\\u00e9rez Zeled\\u00f3n\",\"Puntarenas\",\"Buenos Aires\",\"Sarapiqu\\u00ed\",\"Liberia\",\"Pococ\\u00ed\",\"Nicoya\",\"Santa Cruz\",\"Bagaces\",\"Los Chiles\",\"Upala\",\"Coto Brus\",\"La Cruz\",\"Turrialba\",\"Otros cantones\",\"Otros cantones\",\"Otros cantones\",\"Otros cantones\",\"Otros cantones\",\"Otros cantones\",\"Otros cantones\",\"Otros cantones\",\"Otros cantones\",\"Otros cantones\",\"Otros cantones\",\"Otros cantones\",\"Otros cantones\",\"Otros cantones\",\"Otros cantones\",\"Otros cantones\",\"Otros cantones\",\"Otros cantones\",\"Otros cantones\",\"Otros cantones\",\"Otros cantones\",\"Otros cantones\",\"Otros cantones\",\"Otros cantones\",\"Otros cantones\",\"Otros cantones\",\"Otros cantones\",\"Otros cantones\",\"Otros cantones\",\"Otros cantones\",\"Otros cantones\",\"Otros cantones\",\"Otros cantones\",\"Otros cantones\",\"Otros cantones\",\"Otros cantones\",\"Otros cantones\",\"Otros cantones\",\"Otros cantones\",\"Otros cantones\",\"Otros cantones\",\"Otros cantones\",\"Otros cantones\",\"Otros cantones\",\"Otros cantones\",\"Otros cantones\",\"Otros cantones\",\"Otros cantones\",\"Otros cantones\",\"Otros cantones\",\"Otros cantones\",\"Otros cantones\",\"Otros cantones\",\"Otros cantones\",\"Otros cantones\",\"Otros cantones\",\"Otros cantones\",\"Otros cantones\",\"Otros cantones\",\"Otros cantones\",\"Otros cantones\",\"Otros cantones\",\"Otros cantones\",\"Otros cantones\",\"Otros cantones\",\"Otros cantones\",\"Otros cantones\"],\"legendgroup\":\"\",\"name\":\"\",\"showlegend\":true,\"values\":[2591.060382065653,1429.5606320730353,1368.1627939695895,1297.0860451637627,1103.353426810611,1070.4430213174649,1058.0215022867637,982.1783623750092,965.1787251417784,847.5407082443809,776.9877796388749,770.1344769976878,747.302687151722,714.1383855760494,688.084553804487,678.898892565084,646.2510859449793,602.6804356307817,589.6685631280396,526.3232786928152,515.8651607109507,502.24611752350955,497.2968681531409,495.8243217580492,489.7899951258809,458.0088659899486,455.808533319457,448.84340454735917,399.1154483240083,394.59087867976694,339.89004373719166,328.3250452659486,318.5117339733036,308.7305684541138,306.54668885634624,306.4700028855729,295.72995222679384,280.84730584736184,276.2160588002897,248.37350097486205,239.6339614247792,238.2541459117736,234.30731013940743,225.703311646783,221.7099247040304,216.78212122823336,211.68705720241857,204.144902532729,200.36527628546287,196.3283163462079,192.95972388011984,181.72237457141728,162.38830314565632,151.17451893445514,147.6826702844709,145.44369672424622,143.38510420425342,123.56177508021439,117.19128505043581,114.68004949477228,107.67082109519666,100.81376067609135,94.83108009631535,86.8661592892095,86.43525615822462,81.25200982266026,72.33714376181308,70.80449419274494,68.49487898379122,68.10592349388318,62.93525943610142,54.73389812881975,43.454480076270684,42.515613609853645,38.89511814263088,33.189210935020995,26.145623240876134,23.176612973286655,20.228056244471325,16.408718762933397,15.10510747614577,11.004351519832788],\"type\":\"pie\"}],                        {\"template\":{\"data\":{\"bar\":[{\"error_x\":{\"color\":\"#2a3f5f\"},\"error_y\":{\"color\":\"#2a3f5f\"},\"marker\":{\"line\":{\"color\":\"#E5ECF6\",\"width\":0.5},\"pattern\":{\"fillmode\":\"overlay\",\"size\":10,\"solidity\":0.2}},\"type\":\"bar\"}],\"barpolar\":[{\"marker\":{\"line\":{\"color\":\"#E5ECF6\",\"width\":0.5},\"pattern\":{\"fillmode\":\"overlay\",\"size\":10,\"solidity\":0.2}},\"type\":\"barpolar\"}],\"carpet\":[{\"aaxis\":{\"endlinecolor\":\"#2a3f5f\",\"gridcolor\":\"white\",\"linecolor\":\"white\",\"minorgridcolor\":\"white\",\"startlinecolor\":\"#2a3f5f\"},\"baxis\":{\"endlinecolor\":\"#2a3f5f\",\"gridcolor\":\"white\",\"linecolor\":\"white\",\"minorgridcolor\":\"white\",\"startlinecolor\":\"#2a3f5f\"},\"type\":\"carpet\"}],\"choropleth\":[{\"colorbar\":{\"outlinewidth\":0,\"ticks\":\"\"},\"type\":\"choropleth\"}],\"contour\":[{\"colorbar\":{\"outlinewidth\":0,\"ticks\":\"\"},\"colorscale\":[[0.0,\"#0d0887\"],[0.1111111111111111,\"#46039f\"],[0.2222222222222222,\"#7201a8\"],[0.3333333333333333,\"#9c179e\"],[0.4444444444444444,\"#bd3786\"],[0.5555555555555556,\"#d8576b\"],[0.6666666666666666,\"#ed7953\"],[0.7777777777777778,\"#fb9f3a\"],[0.8888888888888888,\"#fdca26\"],[1.0,\"#f0f921\"]],\"type\":\"contour\"}],\"contourcarpet\":[{\"colorbar\":{\"outlinewidth\":0,\"ticks\":\"\"},\"type\":\"contourcarpet\"}],\"heatmap\":[{\"colorbar\":{\"outlinewidth\":0,\"ticks\":\"\"},\"colorscale\":[[0.0,\"#0d0887\"],[0.1111111111111111,\"#46039f\"],[0.2222222222222222,\"#7201a8\"],[0.3333333333333333,\"#9c179e\"],[0.4444444444444444,\"#bd3786\"],[0.5555555555555556,\"#d8576b\"],[0.6666666666666666,\"#ed7953\"],[0.7777777777777778,\"#fb9f3a\"],[0.8888888888888888,\"#fdca26\"],[1.0,\"#f0f921\"]],\"type\":\"heatmap\"}],\"heatmapgl\":[{\"colorbar\":{\"outlinewidth\":0,\"ticks\":\"\"},\"colorscale\":[[0.0,\"#0d0887\"],[0.1111111111111111,\"#46039f\"],[0.2222222222222222,\"#7201a8\"],[0.3333333333333333,\"#9c179e\"],[0.4444444444444444,\"#bd3786\"],[0.5555555555555556,\"#d8576b\"],[0.6666666666666666,\"#ed7953\"],[0.7777777777777778,\"#fb9f3a\"],[0.8888888888888888,\"#fdca26\"],[1.0,\"#f0f921\"]],\"type\":\"heatmapgl\"}],\"histogram\":[{\"marker\":{\"pattern\":{\"fillmode\":\"overlay\",\"size\":10,\"solidity\":0.2}},\"type\":\"histogram\"}],\"histogram2d\":[{\"colorbar\":{\"outlinewidth\":0,\"ticks\":\"\"},\"colorscale\":[[0.0,\"#0d0887\"],[0.1111111111111111,\"#46039f\"],[0.2222222222222222,\"#7201a8\"],[0.3333333333333333,\"#9c179e\"],[0.4444444444444444,\"#bd3786\"],[0.5555555555555556,\"#d8576b\"],[0.6666666666666666,\"#ed7953\"],[0.7777777777777778,\"#fb9f3a\"],[0.8888888888888888,\"#fdca26\"],[1.0,\"#f0f921\"]],\"type\":\"histogram2d\"}],\"histogram2dcontour\":[{\"colorbar\":{\"outlinewidth\":0,\"ticks\":\"\"},\"colorscale\":[[0.0,\"#0d0887\"],[0.1111111111111111,\"#46039f\"],[0.2222222222222222,\"#7201a8\"],[0.3333333333333333,\"#9c179e\"],[0.4444444444444444,\"#bd3786\"],[0.5555555555555556,\"#d8576b\"],[0.6666666666666666,\"#ed7953\"],[0.7777777777777778,\"#fb9f3a\"],[0.8888888888888888,\"#fdca26\"],[1.0,\"#f0f921\"]],\"type\":\"histogram2dcontour\"}],\"mesh3d\":[{\"colorbar\":{\"outlinewidth\":0,\"ticks\":\"\"},\"type\":\"mesh3d\"}],\"parcoords\":[{\"line\":{\"colorbar\":{\"outlinewidth\":0,\"ticks\":\"\"}},\"type\":\"parcoords\"}],\"pie\":[{\"automargin\":true,\"type\":\"pie\"}],\"scatter\":[{\"marker\":{\"colorbar\":{\"outlinewidth\":0,\"ticks\":\"\"}},\"type\":\"scatter\"}],\"scatter3d\":[{\"line\":{\"colorbar\":{\"outlinewidth\":0,\"ticks\":\"\"}},\"marker\":{\"colorbar\":{\"outlinewidth\":0,\"ticks\":\"\"}},\"type\":\"scatter3d\"}],\"scattercarpet\":[{\"marker\":{\"colorbar\":{\"outlinewidth\":0,\"ticks\":\"\"}},\"type\":\"scattercarpet\"}],\"scattergeo\":[{\"marker\":{\"colorbar\":{\"outlinewidth\":0,\"ticks\":\"\"}},\"type\":\"scattergeo\"}],\"scattergl\":[{\"marker\":{\"colorbar\":{\"outlinewidth\":0,\"ticks\":\"\"}},\"type\":\"scattergl\"}],\"scattermapbox\":[{\"marker\":{\"colorbar\":{\"outlinewidth\":0,\"ticks\":\"\"}},\"type\":\"scattermapbox\"}],\"scatterpolar\":[{\"marker\":{\"colorbar\":{\"outlinewidth\":0,\"ticks\":\"\"}},\"type\":\"scatterpolar\"}],\"scatterpolargl\":[{\"marker\":{\"colorbar\":{\"outlinewidth\":0,\"ticks\":\"\"}},\"type\":\"scatterpolargl\"}],\"scatterternary\":[{\"marker\":{\"colorbar\":{\"outlinewidth\":0,\"ticks\":\"\"}},\"type\":\"scatterternary\"}],\"surface\":[{\"colorbar\":{\"outlinewidth\":0,\"ticks\":\"\"},\"colorscale\":[[0.0,\"#0d0887\"],[0.1111111111111111,\"#46039f\"],[0.2222222222222222,\"#7201a8\"],[0.3333333333333333,\"#9c179e\"],[0.4444444444444444,\"#bd3786\"],[0.5555555555555556,\"#d8576b\"],[0.6666666666666666,\"#ed7953\"],[0.7777777777777778,\"#fb9f3a\"],[0.8888888888888888,\"#fdca26\"],[1.0,\"#f0f921\"]],\"type\":\"surface\"}],\"table\":[{\"cells\":{\"fill\":{\"color\":\"#EBF0F8\"},\"line\":{\"color\":\"white\"}},\"header\":{\"fill\":{\"color\":\"#C8D4E3\"},\"line\":{\"color\":\"white\"}},\"type\":\"table\"}]},\"layout\":{\"annotationdefaults\":{\"arrowcolor\":\"#2a3f5f\",\"arrowhead\":0,\"arrowwidth\":1},\"autotypenumbers\":\"strict\",\"coloraxis\":{\"colorbar\":{\"outlinewidth\":0,\"ticks\":\"\"}},\"colorscale\":{\"diverging\":[[0,\"#8e0152\"],[0.1,\"#c51b7d\"],[0.2,\"#de77ae\"],[0.3,\"#f1b6da\"],[0.4,\"#fde0ef\"],[0.5,\"#f7f7f7\"],[0.6,\"#e6f5d0\"],[0.7,\"#b8e186\"],[0.8,\"#7fbc41\"],[0.9,\"#4d9221\"],[1,\"#276419\"]],\"sequential\":[[0.0,\"#0d0887\"],[0.1111111111111111,\"#46039f\"],[0.2222222222222222,\"#7201a8\"],[0.3333333333333333,\"#9c179e\"],[0.4444444444444444,\"#bd3786\"],[0.5555555555555556,\"#d8576b\"],[0.6666666666666666,\"#ed7953\"],[0.7777777777777778,\"#fb9f3a\"],[0.8888888888888888,\"#fdca26\"],[1.0,\"#f0f921\"]],\"sequentialminus\":[[0.0,\"#0d0887\"],[0.1111111111111111,\"#46039f\"],[0.2222222222222222,\"#7201a8\"],[0.3333333333333333,\"#9c179e\"],[0.4444444444444444,\"#bd3786\"],[0.5555555555555556,\"#d8576b\"],[0.6666666666666666,\"#ed7953\"],[0.7777777777777778,\"#fb9f3a\"],[0.8888888888888888,\"#fdca26\"],[1.0,\"#f0f921\"]]},\"colorway\":[\"#636efa\",\"#EF553B\",\"#00cc96\",\"#ab63fa\",\"#FFA15A\",\"#19d3f3\",\"#FF6692\",\"#B6E880\",\"#FF97FF\",\"#FECB52\"],\"font\":{\"color\":\"#2a3f5f\"},\"geo\":{\"bgcolor\":\"white\",\"lakecolor\":\"white\",\"landcolor\":\"#E5ECF6\",\"showlakes\":true,\"showland\":true,\"subunitcolor\":\"white\"},\"hoverlabel\":{\"align\":\"left\"},\"hovermode\":\"closest\",\"mapbox\":{\"style\":\"light\"},\"paper_bgcolor\":\"white\",\"plot_bgcolor\":\"#E5ECF6\",\"polar\":{\"angularaxis\":{\"gridcolor\":\"white\",\"linecolor\":\"white\",\"ticks\":\"\"},\"bgcolor\":\"#E5ECF6\",\"radialaxis\":{\"gridcolor\":\"white\",\"linecolor\":\"white\",\"ticks\":\"\"}},\"scene\":{\"xaxis\":{\"backgroundcolor\":\"#E5ECF6\",\"gridcolor\":\"white\",\"gridwidth\":2,\"linecolor\":\"white\",\"showbackground\":true,\"ticks\":\"\",\"zerolinecolor\":\"white\"},\"yaxis\":{\"backgroundcolor\":\"#E5ECF6\",\"gridcolor\":\"white\",\"gridwidth\":2,\"linecolor\":\"white\",\"showbackground\":true,\"ticks\":\"\",\"zerolinecolor\":\"white\"},\"zaxis\":{\"backgroundcolor\":\"#E5ECF6\",\"gridcolor\":\"white\",\"gridwidth\":2,\"linecolor\":\"white\",\"showbackground\":true,\"ticks\":\"\",\"zerolinecolor\":\"white\"}},\"shapedefaults\":{\"line\":{\"color\":\"#2a3f5f\"}},\"ternary\":{\"aaxis\":{\"gridcolor\":\"white\",\"linecolor\":\"white\",\"ticks\":\"\"},\"baxis\":{\"gridcolor\":\"white\",\"linecolor\":\"white\",\"ticks\":\"\"},\"bgcolor\":\"#E5ECF6\",\"caxis\":{\"gridcolor\":\"white\",\"linecolor\":\"white\",\"ticks\":\"\"}},\"title\":{\"x\":0.05},\"xaxis\":{\"automargin\":true,\"gridcolor\":\"white\",\"linecolor\":\"white\",\"ticks\":\"\",\"title\":{\"standoff\":15},\"zerolinecolor\":\"white\",\"zerolinewidth\":2},\"yaxis\":{\"automargin\":true,\"gridcolor\":\"white\",\"linecolor\":\"white\",\"ticks\":\"\",\"title\":{\"standoff\":15},\"zerolinecolor\":\"white\",\"zerolinewidth\":2}}},\"legend\":{\"tracegroupgap\":0},\"title\":{\"text\":\"Porcentaje de los 15 cantones de mayor longitud total de la red vial en el pa\\u00eds\"}},                        {\"responsive\": true}                    ).then(function(){\n",
              "                            \n",
              "var gd = document.getElementById('7a618a7a-d7c1-42f0-9302-bfbca622c5f6');\n",
              "var x = new MutationObserver(function (mutations, observer) {{\n",
              "        var display = window.getComputedStyle(gd).display;\n",
              "        if (!display || display === 'none') {{\n",
              "            console.log([gd, 'removed!']);\n",
              "            Plotly.purge(gd);\n",
              "            observer.disconnect();\n",
              "        }}\n",
              "}});\n",
              "\n",
              "// Listen for the removal of the full notebook cells\n",
              "var notebookContainer = gd.closest('#notebook-container');\n",
              "if (notebookContainer) {{\n",
              "    x.observe(notebookContainer, {childList: true});\n",
              "}}\n",
              "\n",
              "// Listen for the clearing of the current output cell\n",
              "var outputEl = gd.closest('.output');\n",
              "if (outputEl) {{\n",
              "    x.observe(outputEl, {childList: true});\n",
              "}}\n",
              "\n",
              "                        })                };                            </script>        </div>\n",
              "</body>\n",
              "</html>"
            ]
          },
          "metadata": {}
        }
      ]
    },
    {
      "cell_type": "markdown",
      "source": [
        "##Mapa folium \n",
        "Un mapa folium con las siguientes capas:\n",
        "* Capa base (OpenStreetMap, Stamen, etc.).\n",
        "* Capa de coropletas correspondiente a la densidad de la red vial en los cantones.\n",
        "* Líneas de la red vial.\n",
        "<br />\n",
        "Y los siguientes controles:\n",
        "* Control para activar y desactivar capas.\n",
        "* Escala\n"
      ],
      "metadata": {
        "id": "rq1BEkZRE4rD"
      }
    },
    {
      "cell_type": "code",
      "source": [
        "# Cargar el GeoJason en un dataframe de pandas\n",
        "densidad_file = gpad.read_file('/content/datos/redvial_por_canton.geojson')\n",
        "# Cargar el GeoJason en un dataframe de pandas\n",
        "cantones_file = gpad.read_file('/content/datos/cantones.geojson')"
      ],
      "metadata": {
        "id": "n3x2wbxSyHc-"
      },
      "execution_count": null,
      "outputs": []
    },
    {
      "cell_type": "code",
      "source": [
        "# Creación del mapa base\n",
        "mapa= folium.Map(\n",
        "    location=[9.8, -84], \n",
        "    width=1000, height=1000, \n",
        "    zoom_start=8,\n",
        "    control_scale=True,\n",
        "    tiles='Stamen Watercolor'\n",
        "    )\n",
        "'''\n",
        "#Añadir mapa de coropletas\n",
        "folium.Choropleth(\n",
        "    name=\"Densidad de la red vial en los cantones de Costa Rica\",\n",
        "    geo_data=cantones_file,\n",
        "    data=densidad_file,\n",
        "    columns=['id', 'densidad'],\n",
        "    bins=8,\n",
        "    key_on='feature.properties.id',\n",
        "    fill_color='Reds', \n",
        "    fill_opacity=0.5, \n",
        "    line_opacity=1,\n",
        "    legend_name='densidad',\n",
        "    smooth_factor=0 ).add_to(mapa)\n",
        "'''\n",
        "#añadir capa con las lineas de red vial\n",
        "folium.GeoJson(data=\"/content/datos/redvial.geojson\", name='Red vial').add_to(mapa)\n",
        "\n",
        "# Control de capas\n",
        "folium.LayerControl().add_to(mapa)\n",
        "\n",
        "# Despliegue del mapa\n",
        "mapa\n"
      ],
      "metadata": {
        "id": "yQ8IxXSHn4lt"
      },
      "execution_count": null,
      "outputs": []
    }
  ]
}