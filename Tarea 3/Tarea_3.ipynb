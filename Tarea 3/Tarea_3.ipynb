{
  "nbformat": 4,
  "nbformat_minor": 0,
  "metadata": {
    "colab": {
      "name": "Tarea 3.ipynb",
      "provenance": [],
      "collapsed_sections": [
        "wKn3__TTwqwm",
        "ako1HWBYzWXC",
        "9MjSVFyd6RdC",
        "rhppybQo6WkP",
        "kLsGmWEc7yj0",
        "g6EW0MrLNRkM",
        "1newgcJEEqWN"
      ]
    },
    "kernelspec": {
      "name": "python3",
      "display_name": "Python 3"
    },
    "language_info": {
      "name": "python"
    }
  },
  "cells": [
    {
      "cell_type": "markdown",
      "source": [
        "#Tarea 03 - Análisis de datos geoespaciales mediante pandas, plotly, geopandas y folium\n",
        "\n"
      ],
      "metadata": {
        "id": "YG2yQNVEwLML"
      }
    },
    {
      "cell_type": "markdown",
      "source": [
        "## Estudiantes:\n",
        "\n",
        "Daniel Salazar Mora - B87214\n",
        "<br/>\n",
        "Stephanie María Leitón Ramírez - B74106\n"
      ],
      "metadata": {
        "id": "reYshMqcZOgA"
      }
    },
    {
      "cell_type": "markdown",
      "source": [
        "##Importando las bibliotecas"
      ],
      "metadata": {
        "id": "wKn3__TTwqwm"
      }
    },
    {
      "cell_type": "code",
      "execution_count": 1,
      "metadata": {
        "id": "-Rv4h6S47_xD",
        "colab": {
          "base_uri": "https://localhost:8080/"
        },
        "outputId": "fed262af-3ff6-4cb7-8cf2-17d596f6d276"
      },
      "outputs": [
        {
          "output_type": "stream",
          "name": "stdout",
          "text": [
            "Collecting fiona\n",
            "  Downloading Fiona-1.8.21-cp37-cp37m-manylinux2014_x86_64.whl (16.7 MB)\n",
            "\u001b[K     |████████████████████████████████| 16.7 MB 286 kB/s \n",
            "\u001b[?25hRequirement already satisfied: click>=4.0 in /usr/local/lib/python3.7/dist-packages (from fiona) (7.1.2)\n",
            "Collecting click-plugins>=1.0\n",
            "  Downloading click_plugins-1.1.1-py2.py3-none-any.whl (7.5 kB)\n",
            "Requirement already satisfied: six>=1.7 in /usr/local/lib/python3.7/dist-packages (from fiona) (1.15.0)\n",
            "Requirement already satisfied: attrs>=17 in /usr/local/lib/python3.7/dist-packages (from fiona) (21.4.0)\n",
            "Collecting munch\n",
            "  Downloading munch-2.5.0-py2.py3-none-any.whl (10 kB)\n",
            "Requirement already satisfied: certifi in /usr/local/lib/python3.7/dist-packages (from fiona) (2021.10.8)\n",
            "Requirement already satisfied: setuptools in /usr/local/lib/python3.7/dist-packages (from fiona) (57.4.0)\n",
            "Collecting cligj>=0.5\n",
            "  Downloading cligj-0.7.2-py3-none-any.whl (7.1 kB)\n",
            "Installing collected packages: munch, cligj, click-plugins, fiona\n",
            "Successfully installed click-plugins-1.1.1 cligj-0.7.2 fiona-1.8.21 munch-2.5.0\n",
            "Collecting owslib\n",
            "  Downloading OWSLib-0.25.0-py2.py3-none-any.whl (216 kB)\n",
            "\u001b[K     |████████████████████████████████| 216 kB 6.6 MB/s \n",
            "\u001b[?25hCollecting pyproj>=2\n",
            "  Downloading pyproj-3.2.1-cp37-cp37m-manylinux2010_x86_64.whl (6.3 MB)\n",
            "\u001b[K     |████████████████████████████████| 6.3 MB 42.9 MB/s \n",
            "\u001b[?25hRequirement already satisfied: pyyaml in /usr/local/lib/python3.7/dist-packages (from owslib) (3.13)\n",
            "Requirement already satisfied: python-dateutil>=1.5 in /usr/local/lib/python3.7/dist-packages (from owslib) (2.8.2)\n",
            "Requirement already satisfied: requests>=1.0 in /usr/local/lib/python3.7/dist-packages (from owslib) (2.23.0)\n",
            "Requirement already satisfied: pytz in /usr/local/lib/python3.7/dist-packages (from owslib) (2018.9)\n",
            "Requirement already satisfied: certifi in /usr/local/lib/python3.7/dist-packages (from pyproj>=2->owslib) (2021.10.8)\n",
            "Requirement already satisfied: six>=1.5 in /usr/local/lib/python3.7/dist-packages (from python-dateutil>=1.5->owslib) (1.15.0)\n",
            "Requirement already satisfied: idna<3,>=2.5 in /usr/local/lib/python3.7/dist-packages (from requests>=1.0->owslib) (2.10)\n",
            "Requirement already satisfied: chardet<4,>=3.0.2 in /usr/local/lib/python3.7/dist-packages (from requests>=1.0->owslib) (3.0.4)\n",
            "Requirement already satisfied: urllib3!=1.25.0,!=1.25.1,<1.26,>=1.21.1 in /usr/local/lib/python3.7/dist-packages (from requests>=1.0->owslib) (1.24.3)\n",
            "Installing collected packages: pyproj, owslib\n",
            "Successfully installed owslib-0.25.0 pyproj-3.2.1\n",
            "Collecting geojson\n",
            "  Downloading geojson-2.5.0-py2.py3-none-any.whl (14 kB)\n",
            "Installing collected packages: geojson\n",
            "Successfully installed geojson-2.5.0\n"
          ]
        }
      ],
      "source": [
        "import os\n",
        "import requests\n",
        "import zipfile\n",
        "import csv\n",
        "from functools import partial\n",
        "from shapely.geometry import Point, mapping, shape\n",
        "from shapely.ops import transform\n",
        "!pip install fiona\n",
        "!pip install owslib\n",
        "!pip install geojson\n",
        "from owslib.wfs import WebFeatureService\n",
        "from geojson import dump\n",
        "import fiona\n",
        "import fiona.crs"
      ]
    },
    {
      "cell_type": "code",
      "source": [
        "# Instalación de bibliotecas de GDAL para Python\n",
        "!apt install gdal-bin python-gdal python3-gdal\n",
        "\n",
        "# Instalación de r-tree\n",
        "!apt install python3-rtree\n",
        "\n",
        "# Instalación de GeoPandas\n",
        "!pip install git+git://github.com/geopandas/geopandas.git\n",
        "\n",
        "# Instalación de Descartes\n",
        "!pip install descartes\n",
        "\n",
        "!pip install contextily\n",
        "\n",
        "!pip install folium\n",
        "\n",
        "import math\n",
        "import folium\n",
        "import geopandas as gpad\n",
        "import pandas as pd\n",
        "import contextily as cx\n",
        "import matplotlib.pyplot as plt\n",
        "%matplotlib inline\n",
        "import plotly.express as px\n",
        "from folium import Marker\n",
        "from folium.plugins import MarkerCluster\n",
        "from folium.plugins import HeatMap"
      ],
      "metadata": {
        "colab": {
          "base_uri": "https://localhost:8080/"
        },
        "id": "03u7tqQbZFrR",
        "outputId": "344e2b12-2f52-4333-cf10-daa4dcca719a"
      },
      "execution_count": 2,
      "outputs": [
        {
          "output_type": "stream",
          "name": "stdout",
          "text": [
            "Reading package lists... Done\n",
            "Building dependency tree       \n",
            "Reading state information... Done\n",
            "gdal-bin is already the newest version (2.2.3+dfsg-2).\n",
            "python-gdal is already the newest version (2.2.3+dfsg-2).\n",
            "The following package was automatically installed and is no longer required:\n",
            "  libnvidia-common-470\n",
            "Use 'apt autoremove' to remove it.\n",
            "The following additional packages will be installed:\n",
            "  python3-numpy\n",
            "Suggested packages:\n",
            "  python-numpy-doc python3-nose python3-numpy-dbg\n",
            "The following NEW packages will be installed:\n",
            "  python3-gdal python3-numpy\n",
            "0 upgraded, 2 newly installed, 0 to remove and 39 not upgraded.\n",
            "Need to get 2,288 kB of archives.\n",
            "After this operation, 13.2 MB of additional disk space will be used.\n",
            "Get:1 http://archive.ubuntu.com/ubuntu bionic/main amd64 python3-numpy amd64 1:1.13.3-2ubuntu1 [1,943 kB]\n",
            "Get:2 http://archive.ubuntu.com/ubuntu bionic/universe amd64 python3-gdal amd64 2.2.3+dfsg-2 [346 kB]\n",
            "Fetched 2,288 kB in 2s (1,459 kB/s)\n",
            "Selecting previously unselected package python3-numpy.\n",
            "(Reading database ... 155320 files and directories currently installed.)\n",
            "Preparing to unpack .../python3-numpy_1%3a1.13.3-2ubuntu1_amd64.deb ...\n",
            "Unpacking python3-numpy (1:1.13.3-2ubuntu1) ...\n",
            "Selecting previously unselected package python3-gdal.\n",
            "Preparing to unpack .../python3-gdal_2.2.3+dfsg-2_amd64.deb ...\n",
            "Unpacking python3-gdal (2.2.3+dfsg-2) ...\n",
            "Setting up python3-numpy (1:1.13.3-2ubuntu1) ...\n",
            "Setting up python3-gdal (2.2.3+dfsg-2) ...\n",
            "Processing triggers for man-db (2.8.3-2ubuntu0.1) ...\n",
            "Reading package lists... Done\n",
            "Building dependency tree       \n",
            "Reading state information... Done\n",
            "The following package was automatically installed and is no longer required:\n",
            "  libnvidia-common-470\n",
            "Use 'apt autoremove' to remove it.\n",
            "The following additional packages will be installed:\n",
            "  libspatialindex-c4v5 libspatialindex-dev libspatialindex4v5\n",
            "  python3-pkg-resources\n",
            "Suggested packages:\n",
            "  python3-setuptools\n",
            "The following NEW packages will be installed:\n",
            "  libspatialindex-c4v5 libspatialindex-dev libspatialindex4v5\n",
            "  python3-pkg-resources python3-rtree\n",
            "0 upgraded, 5 newly installed, 0 to remove and 39 not upgraded.\n",
            "Need to get 671 kB of archives.\n",
            "After this operation, 3,948 kB of additional disk space will be used.\n",
            "Get:1 http://archive.ubuntu.com/ubuntu bionic/universe amd64 libspatialindex4v5 amd64 1.8.5-5 [219 kB]\n",
            "Get:2 http://archive.ubuntu.com/ubuntu bionic/universe amd64 libspatialindex-c4v5 amd64 1.8.5-5 [51.7 kB]\n",
            "Get:3 http://archive.ubuntu.com/ubuntu bionic/main amd64 python3-pkg-resources all 39.0.1-2 [98.8 kB]\n",
            "Get:4 http://archive.ubuntu.com/ubuntu bionic/universe amd64 libspatialindex-dev amd64 1.8.5-5 [285 kB]\n",
            "Get:5 http://archive.ubuntu.com/ubuntu bionic/universe amd64 python3-rtree all 0.8.3+ds-1 [16.9 kB]\n",
            "Fetched 671 kB in 1s (531 kB/s)\n",
            "Selecting previously unselected package libspatialindex4v5:amd64.\n",
            "(Reading database ... 155730 files and directories currently installed.)\n",
            "Preparing to unpack .../libspatialindex4v5_1.8.5-5_amd64.deb ...\n",
            "Unpacking libspatialindex4v5:amd64 (1.8.5-5) ...\n",
            "Selecting previously unselected package libspatialindex-c4v5:amd64.\n",
            "Preparing to unpack .../libspatialindex-c4v5_1.8.5-5_amd64.deb ...\n",
            "Unpacking libspatialindex-c4v5:amd64 (1.8.5-5) ...\n",
            "Selecting previously unselected package python3-pkg-resources.\n",
            "Preparing to unpack .../python3-pkg-resources_39.0.1-2_all.deb ...\n",
            "Unpacking python3-pkg-resources (39.0.1-2) ...\n",
            "Selecting previously unselected package libspatialindex-dev:amd64.\n",
            "Preparing to unpack .../libspatialindex-dev_1.8.5-5_amd64.deb ...\n",
            "Unpacking libspatialindex-dev:amd64 (1.8.5-5) ...\n",
            "Selecting previously unselected package python3-rtree.\n",
            "Preparing to unpack .../python3-rtree_0.8.3+ds-1_all.deb ...\n",
            "Unpacking python3-rtree (0.8.3+ds-1) ...\n",
            "Setting up libspatialindex4v5:amd64 (1.8.5-5) ...\n",
            "Setting up python3-pkg-resources (39.0.1-2) ...\n",
            "Setting up libspatialindex-c4v5:amd64 (1.8.5-5) ...\n",
            "Setting up libspatialindex-dev:amd64 (1.8.5-5) ...\n",
            "Setting up python3-rtree (0.8.3+ds-1) ...\n",
            "Processing triggers for libc-bin (2.27-3ubuntu1.3) ...\n",
            "/sbin/ldconfig.real: /usr/local/lib/python3.7/dist-packages/ideep4py/lib/libmkldnn.so.0 is not a symbolic link\n",
            "\n",
            "Collecting git+git://github.com/geopandas/geopandas.git\n",
            "  Cloning git://github.com/geopandas/geopandas.git to /tmp/pip-req-build-_9vn12jv\n",
            "  Running command git clone -q git://github.com/geopandas/geopandas.git /tmp/pip-req-build-_9vn12jv\n",
            "Requirement already satisfied: pandas>=1.0.0 in /usr/local/lib/python3.7/dist-packages (from geopandas==0.10.2+59.g03c8c70) (1.3.5)\n",
            "Requirement already satisfied: shapely>=1.7 in /usr/local/lib/python3.7/dist-packages (from geopandas==0.10.2+59.g03c8c70) (1.8.1.post1)\n",
            "Requirement already satisfied: fiona>=1.8 in /usr/local/lib/python3.7/dist-packages (from geopandas==0.10.2+59.g03c8c70) (1.8.21)\n",
            "Requirement already satisfied: pyproj>=2.6.1.post1 in /usr/local/lib/python3.7/dist-packages (from geopandas==0.10.2+59.g03c8c70) (3.2.1)\n",
            "Requirement already satisfied: packaging in /usr/local/lib/python3.7/dist-packages (from geopandas==0.10.2+59.g03c8c70) (21.3)\n",
            "Requirement already satisfied: six>=1.7 in /usr/local/lib/python3.7/dist-packages (from fiona>=1.8->geopandas==0.10.2+59.g03c8c70) (1.15.0)\n",
            "Requirement already satisfied: setuptools in /usr/local/lib/python3.7/dist-packages (from fiona>=1.8->geopandas==0.10.2+59.g03c8c70) (57.4.0)\n",
            "Requirement already satisfied: click-plugins>=1.0 in /usr/local/lib/python3.7/dist-packages (from fiona>=1.8->geopandas==0.10.2+59.g03c8c70) (1.1.1)\n",
            "Requirement already satisfied: munch in /usr/local/lib/python3.7/dist-packages (from fiona>=1.8->geopandas==0.10.2+59.g03c8c70) (2.5.0)\n",
            "Requirement already satisfied: click>=4.0 in /usr/local/lib/python3.7/dist-packages (from fiona>=1.8->geopandas==0.10.2+59.g03c8c70) (7.1.2)\n",
            "Requirement already satisfied: certifi in /usr/local/lib/python3.7/dist-packages (from fiona>=1.8->geopandas==0.10.2+59.g03c8c70) (2021.10.8)\n",
            "Requirement already satisfied: attrs>=17 in /usr/local/lib/python3.7/dist-packages (from fiona>=1.8->geopandas==0.10.2+59.g03c8c70) (21.4.0)\n",
            "Requirement already satisfied: cligj>=0.5 in /usr/local/lib/python3.7/dist-packages (from fiona>=1.8->geopandas==0.10.2+59.g03c8c70) (0.7.2)\n",
            "Requirement already satisfied: pytz>=2017.3 in /usr/local/lib/python3.7/dist-packages (from pandas>=1.0.0->geopandas==0.10.2+59.g03c8c70) (2018.9)\n",
            "Requirement already satisfied: python-dateutil>=2.7.3 in /usr/local/lib/python3.7/dist-packages (from pandas>=1.0.0->geopandas==0.10.2+59.g03c8c70) (2.8.2)\n",
            "Requirement already satisfied: numpy>=1.17.3 in /usr/local/lib/python3.7/dist-packages (from pandas>=1.0.0->geopandas==0.10.2+59.g03c8c70) (1.21.5)\n",
            "Requirement already satisfied: pyparsing!=3.0.5,>=2.0.2 in /usr/local/lib/python3.7/dist-packages (from packaging->geopandas==0.10.2+59.g03c8c70) (3.0.7)\n",
            "Building wheels for collected packages: geopandas\n",
            "  Building wheel for geopandas (setup.py) ... \u001b[?25l\u001b[?25hdone\n",
            "  Created wheel for geopandas: filename=geopandas-0.10.2+59.g03c8c70-py2.py3-none-any.whl size=1034765 sha256=afd07699404fc061249fac6c7f207162587905c42cab8fe2c6079a2010b75ec1\n",
            "  Stored in directory: /tmp/pip-ephem-wheel-cache-vevi9e2k/wheels/cf/3e/0b/6475054094c2b1ea054158ac1fdcf749fb92f5b512377e4cf8\n",
            "Successfully built geopandas\n",
            "Installing collected packages: geopandas\n",
            "Successfully installed geopandas-0.10.2+59.g03c8c70\n",
            "Requirement already satisfied: descartes in /usr/local/lib/python3.7/dist-packages (1.1.0)\n",
            "Requirement already satisfied: matplotlib in /usr/local/lib/python3.7/dist-packages (from descartes) (3.2.2)\n",
            "Requirement already satisfied: pyparsing!=2.0.4,!=2.1.2,!=2.1.6,>=2.0.1 in /usr/local/lib/python3.7/dist-packages (from matplotlib->descartes) (3.0.7)\n",
            "Requirement already satisfied: python-dateutil>=2.1 in /usr/local/lib/python3.7/dist-packages (from matplotlib->descartes) (2.8.2)\n",
            "Requirement already satisfied: numpy>=1.11 in /usr/local/lib/python3.7/dist-packages (from matplotlib->descartes) (1.21.5)\n",
            "Requirement already satisfied: cycler>=0.10 in /usr/local/lib/python3.7/dist-packages (from matplotlib->descartes) (0.11.0)\n",
            "Requirement already satisfied: kiwisolver>=1.0.1 in /usr/local/lib/python3.7/dist-packages (from matplotlib->descartes) (1.3.2)\n",
            "Requirement already satisfied: six>=1.5 in /usr/local/lib/python3.7/dist-packages (from python-dateutil>=2.1->matplotlib->descartes) (1.15.0)\n",
            "Collecting contextily\n",
            "  Downloading contextily-1.2.0-py3-none-any.whl (16 kB)\n",
            "Collecting rasterio\n",
            "  Downloading rasterio-1.2.10-cp37-cp37m-manylinux1_x86_64.whl (19.3 MB)\n",
            "\u001b[K     |████████████████████████████████| 19.3 MB 6.1 MB/s \n",
            "\u001b[?25hCollecting mercantile\n",
            "  Downloading mercantile-1.2.1-py3-none-any.whl (14 kB)\n",
            "Requirement already satisfied: joblib in /usr/local/lib/python3.7/dist-packages (from contextily) (1.1.0)\n",
            "Collecting xyzservices\n",
            "  Downloading xyzservices-2022.2.0-py3-none-any.whl (35 kB)\n",
            "Requirement already satisfied: geopy in /usr/local/lib/python3.7/dist-packages (from contextily) (1.17.0)\n",
            "Requirement already satisfied: pillow in /usr/local/lib/python3.7/dist-packages (from contextily) (7.1.2)\n",
            "Requirement already satisfied: matplotlib in /usr/local/lib/python3.7/dist-packages (from contextily) (3.2.2)\n",
            "Requirement already satisfied: requests in /usr/local/lib/python3.7/dist-packages (from contextily) (2.23.0)\n",
            "Requirement already satisfied: geographiclib<2,>=1.49 in /usr/local/lib/python3.7/dist-packages (from geopy->contextily) (1.52)\n",
            "Requirement already satisfied: numpy>=1.11 in /usr/local/lib/python3.7/dist-packages (from matplotlib->contextily) (1.21.5)\n",
            "Requirement already satisfied: kiwisolver>=1.0.1 in /usr/local/lib/python3.7/dist-packages (from matplotlib->contextily) (1.3.2)\n",
            "Requirement already satisfied: pyparsing!=2.0.4,!=2.1.2,!=2.1.6,>=2.0.1 in /usr/local/lib/python3.7/dist-packages (from matplotlib->contextily) (3.0.7)\n",
            "Requirement already satisfied: python-dateutil>=2.1 in /usr/local/lib/python3.7/dist-packages (from matplotlib->contextily) (2.8.2)\n",
            "Requirement already satisfied: cycler>=0.10 in /usr/local/lib/python3.7/dist-packages (from matplotlib->contextily) (0.11.0)\n",
            "Requirement already satisfied: six>=1.5 in /usr/local/lib/python3.7/dist-packages (from python-dateutil>=2.1->matplotlib->contextily) (1.15.0)\n",
            "Requirement already satisfied: click>=3.0 in /usr/local/lib/python3.7/dist-packages (from mercantile->contextily) (7.1.2)\n",
            "Requirement already satisfied: attrs in /usr/local/lib/python3.7/dist-packages (from rasterio->contextily) (21.4.0)\n",
            "Requirement already satisfied: cligj>=0.5 in /usr/local/lib/python3.7/dist-packages (from rasterio->contextily) (0.7.2)\n",
            "Collecting affine\n",
            "  Downloading affine-2.3.0-py2.py3-none-any.whl (15 kB)\n",
            "Requirement already satisfied: setuptools in /usr/local/lib/python3.7/dist-packages (from rasterio->contextily) (57.4.0)\n",
            "Collecting snuggs>=1.4.1\n",
            "  Downloading snuggs-1.4.7-py3-none-any.whl (5.4 kB)\n",
            "Requirement already satisfied: certifi in /usr/local/lib/python3.7/dist-packages (from rasterio->contextily) (2021.10.8)\n",
            "Requirement already satisfied: click-plugins in /usr/local/lib/python3.7/dist-packages (from rasterio->contextily) (1.1.1)\n",
            "Requirement already satisfied: urllib3!=1.25.0,!=1.25.1,<1.26,>=1.21.1 in /usr/local/lib/python3.7/dist-packages (from requests->contextily) (1.24.3)\n",
            "Requirement already satisfied: idna<3,>=2.5 in /usr/local/lib/python3.7/dist-packages (from requests->contextily) (2.10)\n",
            "Requirement already satisfied: chardet<4,>=3.0.2 in /usr/local/lib/python3.7/dist-packages (from requests->contextily) (3.0.4)\n",
            "Installing collected packages: snuggs, affine, xyzservices, rasterio, mercantile, contextily\n",
            "Successfully installed affine-2.3.0 contextily-1.2.0 mercantile-1.2.1 rasterio-1.2.10 snuggs-1.4.7 xyzservices-2022.2.0\n",
            "Requirement already satisfied: folium in /usr/local/lib/python3.7/dist-packages (0.8.3)\n",
            "Requirement already satisfied: six in /usr/local/lib/python3.7/dist-packages (from folium) (1.15.0)\n",
            "Requirement already satisfied: jinja2 in /usr/local/lib/python3.7/dist-packages (from folium) (2.11.3)\n",
            "Requirement already satisfied: numpy in /usr/local/lib/python3.7/dist-packages (from folium) (1.21.5)\n",
            "Requirement already satisfied: requests in /usr/local/lib/python3.7/dist-packages (from folium) (2.23.0)\n",
            "Requirement already satisfied: branca>=0.3.0 in /usr/local/lib/python3.7/dist-packages (from folium) (0.4.2)\n",
            "Requirement already satisfied: MarkupSafe>=0.23 in /usr/local/lib/python3.7/dist-packages (from jinja2->folium) (2.0.1)\n",
            "Requirement already satisfied: idna<3,>=2.5 in /usr/local/lib/python3.7/dist-packages (from requests->folium) (2.10)\n",
            "Requirement already satisfied: certifi>=2017.4.17 in /usr/local/lib/python3.7/dist-packages (from requests->folium) (2021.10.8)\n",
            "Requirement already satisfied: chardet<4,>=3.0.2 in /usr/local/lib/python3.7/dist-packages (from requests->folium) (3.0.4)\n",
            "Requirement already satisfied: urllib3!=1.25.0,!=1.25.1,<1.26,>=1.21.1 in /usr/local/lib/python3.7/dist-packages (from requests->folium) (1.24.3)\n"
          ]
        }
      ]
    },
    {
      "cell_type": "markdown",
      "source": [
        "##Obtención de datos\n",
        "Se usan las capas de Web Feature Service (WFS) publicadas por el Instituto Geográfico Nacional (IGN) en el Sistema Nacional de Información Territorial (SNIT):\n",
        "\n",
        "Límite cantonal 1:5000\n",
        "https://www.snitcr.go.cr/ico_servicios_ogc_info?k=bm9kbzo6MjY=&nombre=IGN%20Cartograf%C3%ADa%201:5mil\n",
        " \n",
        " <br/>\n",
        "\n",
        "Red vial 1:200000\n",
        "https://www.snitcr.go.cr/ico_servicios_ogc_info?k=bm9kbzo6NDI=&nombre=IGN%201:200mil\n"
      ],
      "metadata": {
        "id": "ako1HWBYzWXC"
      }
    },
    {
      "cell_type": "markdown",
      "source": [
        "### Limite Cantonal"
      ],
      "metadata": {
        "id": "9MjSVFyd6RdC"
      }
    },
    {
      "cell_type": "code",
      "source": [
        "#wfs = WebFeatureService(url='https://geos.snitcr.go.cr/be/IGN_5/wfs?', version='1.1.0')\n",
        "#list(wfs.contents)"
      ],
      "metadata": {
        "id": "CE57hAGCzvYj"
      },
      "execution_count": 40,
      "outputs": []
    },
    {
      "cell_type": "code",
      "source": [
        "# Título\n",
        "#wfs.identification.title"
      ],
      "metadata": {
        "id": "LsA5vfYC08aC"
      },
      "execution_count": 41,
      "outputs": []
    },
    {
      "cell_type": "code",
      "source": [
        "# Operaciones\n",
        "#[operation.name for operation in wfs.operations]"
      ],
      "metadata": {
        "id": "D4qjseGr0_TQ"
      },
      "execution_count": 42,
      "outputs": []
    },
    {
      "cell_type": "code",
      "source": [
        "# Solicitud de metadatos del servicio\n",
        "\n",
        "# Parámetros de la solicitud\n",
        "params = dict(service='WFS', version='1.1.0', request='GetCapabilities')\n",
        "\n",
        "# Solicitud\n",
        "response = requests.get(\"https://geos.snitcr.go.cr/be/IGN_5/wfs?\", params=params)\n",
        "\n",
        "# Despliegue del contenido de la respuesta\n",
        "#response.content"
      ],
      "metadata": {
        "id": "aMA_vcIl1JaO"
      },
      "execution_count": 43,
      "outputs": []
    },
    {
      "cell_type": "code",
      "source": [
        "# Solicitud de capa WFS de Limite Cantonal mediante GET, para retornarse como JSON\n",
        "\n",
        "# Parámetros de la solicitud\n",
        "params = dict(service='WFS',\n",
        "              version='1.1.0', \n",
        "              request='GetFeature', \n",
        "              typeName='IGN_5:limitecantonal_5k',\n",
        "              srsName='urn:ogc:def:crs:EPSG::5367',\n",
        "              outputFormat='json')\n",
        "\n",
        "# Solicitud\n",
        "response = requests.get(\"https://geos.snitcr.go.cr/be/IGN_5/wfs?\", params=params)"
      ],
      "metadata": {
        "id": "j_vtF4Os15jp"
      },
      "execution_count": 44,
      "outputs": []
    },
    {
      "cell_type": "code",
      "source": [
        "# Descarga de la respuesta en un archivo GeoJSON\n",
        "os.mkdir('/content/datos')\n",
        "with open('/content/datos/cantones.geojson', 'w') as file:\n",
        "   dump(response.json(), file)"
      ],
      "metadata": {
        "id": "ZYqSJL0822Dq"
      },
      "execution_count": 46,
      "outputs": []
    },
    {
      "cell_type": "markdown",
      "source": [
        "### Red Vial"
      ],
      "metadata": {
        "id": "rhppybQo6WkP"
      }
    },
    {
      "cell_type": "code",
      "source": [
        "wfs = WebFeatureService(url='https://geos.snitcr.go.cr/be/IGN_200/wfs?version=1.1.0', version='1.1.0')\n",
        "#list(wfs.contents)"
      ],
      "metadata": {
        "id": "oVmZGWcw6ZRF"
      },
      "execution_count": 47,
      "outputs": []
    },
    {
      "cell_type": "code",
      "source": [
        "# Título\n",
        "#wfs.identification.title"
      ],
      "metadata": {
        "id": "FRV3i_Fs6wV3"
      },
      "execution_count": 48,
      "outputs": []
    },
    {
      "cell_type": "code",
      "source": [
        "# Operaciones\n",
        "#[operation.name for operation in wfs.operations]"
      ],
      "metadata": {
        "id": "LccgegRW6xq0"
      },
      "execution_count": 49,
      "outputs": []
    },
    {
      "cell_type": "code",
      "source": [
        "# Solicitud de metadatos del servicio\n",
        "\n",
        "# Parámetros de la solicitud\n",
        "params = dict(service='WFS', version='1.1.0', request='GetCapabilities')\n",
        "\n",
        "# Solicitud\n",
        "response = requests.get(\"https://geos.snitcr.go.cr/be/IGN_200/wfs?version=1.1.0\", params=params)\n",
        "\n",
        "# Despliegue del contenido de la respuesta\n",
        "#response.content"
      ],
      "metadata": {
        "id": "RraZ8fbl62Vo"
      },
      "execution_count": 50,
      "outputs": []
    },
    {
      "cell_type": "code",
      "source": [
        "# Solicitud de capa WFS de Red Vial mediante GET, para retornarse como JSON\n",
        "\n",
        "# Parámetros de la solicitud\n",
        "params = dict(service='WFS',\n",
        "              version='1.1.0', \n",
        "              request='GetFeature', \n",
        "              typeName='IGN_200:redvial_200k',\n",
        "              srsName='urn:ogc:def:crs:EPSG::5367',\n",
        "              outputFormat='json')\n",
        "\n",
        "# Solicitud\n",
        "response = requests.get(\"https://geos.snitcr.go.cr/be/IGN_200/wfs?version=1.1.0\", params=params)"
      ],
      "metadata": {
        "id": "auMljYiD7AM5"
      },
      "execution_count": 51,
      "outputs": []
    },
    {
      "cell_type": "code",
      "source": [
        "# Descarga de la respuesta en un archivo GeoJSON\n",
        "with open('/content/datos/redvial.geojson', 'w') as file:\n",
        "   dump(response.json(), file)"
      ],
      "metadata": {
        "id": "EXdO8V_I7Ubd"
      },
      "execution_count": 52,
      "outputs": []
    },
    {
      "cell_type": "markdown",
      "source": [
        "## Creación de un archivo GeoPackage con todas las capas"
      ],
      "metadata": {
        "id": "kLsGmWEc7yj0"
      }
    },
    {
      "cell_type": "code",
      "source": [
        "# Se agrega el archivo GeoJSON de asp-especies al GPKG\n",
        "\n",
        "with fiona.open('/content/datos/cantones.geojson') as source:\n",
        "    with fiona.open('/content/datos/geo_cantones.gpkg', 'w', 'GPKG', source.schema, source.crs, layer='cantones') as sink:\n",
        "        for record in source:\n",
        "            sink.write(record)"
      ],
      "metadata": {
        "id": "Edu6CEP8735u"
      },
      "execution_count": 15,
      "outputs": []
    },
    {
      "cell_type": "code",
      "source": [
        "with fiona.open('/content/datos/redvial.geojson') as source:\n",
        "    with fiona.open('/content/datos/geo_redvial.gpkg', 'w', 'GPKG', source.schema, source.crs, layer='redesviales') as sink:\n",
        "        for record in source:\n",
        "            sink.write(record)"
      ],
      "metadata": {
        "id": "FizLWmtfyP-u"
      },
      "execution_count": 16,
      "outputs": []
    },
    {
      "cell_type": "code",
      "source": [
        "from shapely.geometry.linestring import LineString\n",
        "\n",
        "'''\n",
        "  El nombre del cantón.                                                            ⚪\n",
        "  La longitud de las autopistas.                                                   ⚪\n",
        "  La longitud de las carreteras de pavimento de dos vías o más.                    ⚪\n",
        "  La longitud de las carreteras de pavimento de una vía.                           ⚪\n",
        "  La longitud de las carreteras sin pavimento de dos vías.                         ⚪\n",
        "  La longitud de los caminos de tierra.                                            ⚪\n",
        "  La longitud total (i.e. todos los tipos de red vial) de la red vial del cantón.  ⚪\n",
        "  La densidad total (i.e. todos los tipos de red vial) de la red vial del cantón.  ⚪\n",
        "'''\n",
        "camino_tierra = 'CAMINO DE TIERRA'\n",
        "camino_pavimento_2v = 'CARRETERA PAVIMENTO DOS VIAS O MAS'\n",
        "camino_pavimento_1v = 'CARRETERA PAVIMENTO UNA VIA'\n",
        "camino_sin_pavimento_2v = 'CARRETERA SIN PAVIMENTO DOS VIAS'\n",
        "autopista = 'AUTOPISTA'\n",
        "\n",
        "\n",
        "# Nuevo esquema que tendrá los datos de cada cantón, más la longitud de sus redes viales y la densidad\n",
        "schema = {'geometry':'Unknown',\n",
        "          'properties':{'id':'str',\n",
        "                        'canton':'str',\n",
        "                        'area':'float',\n",
        "                        'longitud':'float',\n",
        "                        'densidad':'float',\n",
        "                        'long_autopistas': 'float',\n",
        "                        'long_pavimento_1v':'float',\n",
        "                        'long_pavimento_2v':'float',\n",
        "                        'long_sin_pavimento_2v':'float',\n",
        "                        'long_tierra':'float'\n",
        "                        \n",
        "                       }}\n",
        "\n",
        "with fiona.collection('datos/geo_cantones.gpkg', 'r', layer='cantones') as cantones:\n",
        "    \n",
        "    i = 1 # contador para ver progreso\n",
        "    \n",
        "    with fiona.open('datos/redvial_por_canton.geojson','w','GeoJSON', schema, cantones.crs) as redvial_cantonal:\n",
        "    \n",
        "        for canton in cantones:\n",
        "            #print(i, canton['properties']['canton'])\n",
        "            longitud_total_por_canton = 0\n",
        "            densidad = 0\n",
        "            camino_tierra_total = 0\n",
        "            camino_pavimento_2v_total = 0\n",
        "            camino_pavimento_1v_total = 0\n",
        "            camino_sin_pavimento_2v_total = 0\n",
        "            autopista_total = 0\n",
        "            area = float(canton['properties']['area'])  \n",
        "\n",
        "            with fiona.collection('datos/geo_redvial.gpkg', 'r', layer='redesviales') as redesviales:\n",
        "                for redvial in redesviales:\n",
        "                  # Si existe una interseccion, se sumara su longitud a la longitud total dentro de ese canton\n",
        "                  if shape(redvial['geometry']).intersects(shape(canton['geometry'])):\n",
        "                    red = shape(canton['geometry']).intersection(shape(redvial['geometry']))\n",
        "                    longitud_total_por_canton += red.length\n",
        "                    if redvial['properties']['categoria'] == autopista:\n",
        "                      autopista_total += red.length\n",
        "                    elif redvial['properties']['categoria'] == camino_pavimento_2v:\n",
        "                      camino_pavimento_2v_total += red.length\n",
        "                    elif redvial['properties']['categoria'] == camino_pavimento_1v:\n",
        "                      camino_pavimento_1v_total += red.length\n",
        "                    elif redvial['properties']['categoria'] == camino_sin_pavimento_2v:\n",
        "                      camino_sin_pavimento_2v_total += red.length\n",
        "                    elif redvial['properties']['categoria'] == camino_tierra:\n",
        "                      camino_tierra_total  += red.length\n",
        "\n",
        "            i += 1\n",
        "            \n",
        "            longitud_total_por_canton = (longitud_total_por_canton / 1000) # se pasa a km\n",
        "            camino_tierra_total = camino_tierra_total/1000\n",
        "            camino_pavimento_2v_total = camino_pavimento_2v_total/1000\n",
        "            camino_pavimento_1v_total = camino_pavimento_1v_total/1000\n",
        "            camino_sin_pavimento_2v_total = camino_sin_pavimento_2v_total/1000\n",
        "            autopista_total = autopista_total/1000\n",
        "            densidad = (longitud_total_por_canton / area)   \n",
        "            #print(\" Longitud: \", str(longitud_total_por_canton))\n",
        "\n",
        "            # Se escriben los datos para la nueva capa\n",
        "            redvial_cantonal.write({\n",
        "                'properties': {\n",
        "                    'id':canton['properties']['id'],\n",
        "                    'canton':canton['properties']['canton'],\n",
        "                    'area': area,\n",
        "                    'longitud': longitud_total_por_canton,\n",
        "                    'densidad': densidad,\n",
        "                    'long_autopistas': autopista_total,\n",
        "                    'long_pavimento_1v':camino_pavimento_1v_total,\n",
        "                    'long_pavimento_2v':camino_pavimento_2v_total,\n",
        "                    'long_sin_pavimento_2v':camino_sin_pavimento_2v_total,\n",
        "                    'long_tierra':camino_tierra_total\n",
        "                },\n",
        "                'geometry':canton['geometry']\n",
        "            }) "
      ],
      "metadata": {
        "id": "u6e9aRAmuBMm"
      },
      "execution_count": 17,
      "outputs": []
    },
    {
      "cell_type": "code",
      "source": [
        "# Se agrega el archivo GeoJSON final a un GeoPackage\n",
        "with fiona.open('datos/redvial_por_canton.geojson') as source:\n",
        "    with fiona.open('datos/geo_redvial_por_canton.gpkg', 'w', 'GPKG', source.schema, source.crs, layer='redvial_por_canton') as sink:\n",
        "        for record in source:\n",
        "            sink.write(record)\n"
      ],
      "metadata": {
        "id": "3zzOwPcw5gy_"
      },
      "execution_count": 18,
      "outputs": []
    },
    {
      "cell_type": "markdown",
      "source": [
        "##Tabla con los 82 cantones de Costa Rica"
      ],
      "metadata": {
        "id": "g6EW0MrLNRkM"
      }
    },
    {
      "cell_type": "code",
      "source": [
        "# Cargar el GeoJason en un dataframe de pandas\n",
        "pandas_file = gpad.read_file('datos/redvial_por_canton.geojson')\n",
        "#Tabla de pandas con las columnas específicas\n",
        "pandas_file[['canton', 'area','longitud','densidad','long_autopistas','long_pavimento_1v','long_pavimento_2v','long_sin_pavimento_2v','long_tierra']]"
      ],
      "metadata": {
        "colab": {
          "base_uri": "https://localhost:8080/",
          "height": 467
        },
        "id": "NKPa0JjmNUUY",
        "outputId": "e4493acf-6b8d-4591-ca0b-fefd43b5ba69"
      },
      "execution_count": 19,
      "outputs": [
        {
          "output_type": "execute_result",
          "data": {
            "text/html": [
              "\n",
              "  <div id=\"df-ae6c4e4b-28c2-48c8-8d10-a7994779f09b\">\n",
              "    <div class=\"colab-df-container\">\n",
              "      <div>\n",
              "<style scoped>\n",
              "    .dataframe tbody tr th:only-of-type {\n",
              "        vertical-align: middle;\n",
              "    }\n",
              "\n",
              "    .dataframe tbody tr th {\n",
              "        vertical-align: top;\n",
              "    }\n",
              "\n",
              "    .dataframe thead th {\n",
              "        text-align: right;\n",
              "    }\n",
              "</style>\n",
              "<table border=\"1\" class=\"dataframe\">\n",
              "  <thead>\n",
              "    <tr style=\"text-align: right;\">\n",
              "      <th></th>\n",
              "      <th>canton</th>\n",
              "      <th>area</th>\n",
              "      <th>longitud</th>\n",
              "      <th>densidad</th>\n",
              "      <th>long_autopistas</th>\n",
              "      <th>long_pavimento_1v</th>\n",
              "      <th>long_pavimento_2v</th>\n",
              "      <th>long_sin_pavimento_2v</th>\n",
              "      <th>long_tierra</th>\n",
              "    </tr>\n",
              "  </thead>\n",
              "  <tbody>\n",
              "    <tr>\n",
              "      <th>0</th>\n",
              "      <td>Corredores</td>\n",
              "      <td>623.61</td>\n",
              "      <td>495.824322</td>\n",
              "      <td>0.795087</td>\n",
              "      <td>0.0</td>\n",
              "      <td>99.151474</td>\n",
              "      <td>130.679910</td>\n",
              "      <td>12.139449</td>\n",
              "      <td>253.853488</td>\n",
              "    </tr>\n",
              "    <tr>\n",
              "      <th>1</th>\n",
              "      <td>Golfito</td>\n",
              "      <td>1752.75</td>\n",
              "      <td>602.680436</td>\n",
              "      <td>0.343848</td>\n",
              "      <td>0.0</td>\n",
              "      <td>127.669233</td>\n",
              "      <td>80.781497</td>\n",
              "      <td>72.046381</td>\n",
              "      <td>322.183324</td>\n",
              "    </tr>\n",
              "    <tr>\n",
              "      <th>2</th>\n",
              "      <td>Coto Brus</td>\n",
              "      <td>944.24</td>\n",
              "      <td>747.302687</td>\n",
              "      <td>0.791433</td>\n",
              "      <td>0.0</td>\n",
              "      <td>369.560745</td>\n",
              "      <td>108.759457</td>\n",
              "      <td>0.000000</td>\n",
              "      <td>268.982485</td>\n",
              "    </tr>\n",
              "    <tr>\n",
              "      <th>3</th>\n",
              "      <td>Osa</td>\n",
              "      <td>1932.70</td>\n",
              "      <td>678.898893</td>\n",
              "      <td>0.351270</td>\n",
              "      <td>0.0</td>\n",
              "      <td>153.449033</td>\n",
              "      <td>134.506071</td>\n",
              "      <td>55.998104</td>\n",
              "      <td>334.945685</td>\n",
              "    </tr>\n",
              "    <tr>\n",
              "      <th>4</th>\n",
              "      <td>Buenos Aires</td>\n",
              "      <td>2382.94</td>\n",
              "      <td>1297.086045</td>\n",
              "      <td>0.544322</td>\n",
              "      <td>0.0</td>\n",
              "      <td>434.423277</td>\n",
              "      <td>170.930288</td>\n",
              "      <td>0.000000</td>\n",
              "      <td>691.732481</td>\n",
              "    </tr>\n",
              "    <tr>\n",
              "      <th>...</th>\n",
              "      <td>...</td>\n",
              "      <td>...</td>\n",
              "      <td>...</td>\n",
              "      <td>...</td>\n",
              "      <td>...</td>\n",
              "      <td>...</td>\n",
              "      <td>...</td>\n",
              "      <td>...</td>\n",
              "      <td>...</td>\n",
              "    </tr>\n",
              "    <tr>\n",
              "      <th>77</th>\n",
              "      <td>Guatuso</td>\n",
              "      <td>752.83</td>\n",
              "      <td>308.730568</td>\n",
              "      <td>0.410093</td>\n",
              "      <td>0.0</td>\n",
              "      <td>76.574171</td>\n",
              "      <td>19.648571</td>\n",
              "      <td>0.000000</td>\n",
              "      <td>212.507827</td>\n",
              "    </tr>\n",
              "    <tr>\n",
              "      <th>78</th>\n",
              "      <td>Los Chiles</td>\n",
              "      <td>1332.71</td>\n",
              "      <td>776.987780</td>\n",
              "      <td>0.583013</td>\n",
              "      <td>0.0</td>\n",
              "      <td>228.786538</td>\n",
              "      <td>114.471868</td>\n",
              "      <td>0.000000</td>\n",
              "      <td>433.729374</td>\n",
              "    </tr>\n",
              "    <tr>\n",
              "      <th>79</th>\n",
              "      <td>Liberia</td>\n",
              "      <td>1442.17</td>\n",
              "      <td>1070.443021</td>\n",
              "      <td>0.742245</td>\n",
              "      <td>0.0</td>\n",
              "      <td>278.803923</td>\n",
              "      <td>39.948298</td>\n",
              "      <td>0.000000</td>\n",
              "      <td>751.690800</td>\n",
              "    </tr>\n",
              "    <tr>\n",
              "      <th>80</th>\n",
              "      <td>Upala</td>\n",
              "      <td>1592.67</td>\n",
              "      <td>770.134477</td>\n",
              "      <td>0.483549</td>\n",
              "      <td>0.0</td>\n",
              "      <td>418.678393</td>\n",
              "      <td>9.263710</td>\n",
              "      <td>2.904216</td>\n",
              "      <td>339.288158</td>\n",
              "    </tr>\n",
              "    <tr>\n",
              "      <th>81</th>\n",
              "      <td>La Cruz</td>\n",
              "      <td>1385.38</td>\n",
              "      <td>714.138386</td>\n",
              "      <td>0.515482</td>\n",
              "      <td>0.0</td>\n",
              "      <td>128.665625</td>\n",
              "      <td>46.075620</td>\n",
              "      <td>4.303194</td>\n",
              "      <td>535.093947</td>\n",
              "    </tr>\n",
              "  </tbody>\n",
              "</table>\n",
              "<p>82 rows × 9 columns</p>\n",
              "</div>\n",
              "      <button class=\"colab-df-convert\" onclick=\"convertToInteractive('df-ae6c4e4b-28c2-48c8-8d10-a7994779f09b')\"\n",
              "              title=\"Convert this dataframe to an interactive table.\"\n",
              "              style=\"display:none;\">\n",
              "        \n",
              "  <svg xmlns=\"http://www.w3.org/2000/svg\" height=\"24px\"viewBox=\"0 0 24 24\"\n",
              "       width=\"24px\">\n",
              "    <path d=\"M0 0h24v24H0V0z\" fill=\"none\"/>\n",
              "    <path d=\"M18.56 5.44l.94 2.06.94-2.06 2.06-.94-2.06-.94-.94-2.06-.94 2.06-2.06.94zm-11 1L8.5 8.5l.94-2.06 2.06-.94-2.06-.94L8.5 2.5l-.94 2.06-2.06.94zm10 10l.94 2.06.94-2.06 2.06-.94-2.06-.94-.94-2.06-.94 2.06-2.06.94z\"/><path d=\"M17.41 7.96l-1.37-1.37c-.4-.4-.92-.59-1.43-.59-.52 0-1.04.2-1.43.59L10.3 9.45l-7.72 7.72c-.78.78-.78 2.05 0 2.83L4 21.41c.39.39.9.59 1.41.59.51 0 1.02-.2 1.41-.59l7.78-7.78 2.81-2.81c.8-.78.8-2.07 0-2.86zM5.41 20L4 18.59l7.72-7.72 1.47 1.35L5.41 20z\"/>\n",
              "  </svg>\n",
              "      </button>\n",
              "      \n",
              "  <style>\n",
              "    .colab-df-container {\n",
              "      display:flex;\n",
              "      flex-wrap:wrap;\n",
              "      gap: 12px;\n",
              "    }\n",
              "\n",
              "    .colab-df-convert {\n",
              "      background-color: #E8F0FE;\n",
              "      border: none;\n",
              "      border-radius: 50%;\n",
              "      cursor: pointer;\n",
              "      display: none;\n",
              "      fill: #1967D2;\n",
              "      height: 32px;\n",
              "      padding: 0 0 0 0;\n",
              "      width: 32px;\n",
              "    }\n",
              "\n",
              "    .colab-df-convert:hover {\n",
              "      background-color: #E2EBFA;\n",
              "      box-shadow: 0px 1px 2px rgba(60, 64, 67, 0.3), 0px 1px 3px 1px rgba(60, 64, 67, 0.15);\n",
              "      fill: #174EA6;\n",
              "    }\n",
              "\n",
              "    [theme=dark] .colab-df-convert {\n",
              "      background-color: #3B4455;\n",
              "      fill: #D2E3FC;\n",
              "    }\n",
              "\n",
              "    [theme=dark] .colab-df-convert:hover {\n",
              "      background-color: #434B5C;\n",
              "      box-shadow: 0px 1px 3px 1px rgba(0, 0, 0, 0.15);\n",
              "      filter: drop-shadow(0px 1px 2px rgba(0, 0, 0, 0.3));\n",
              "      fill: #FFFFFF;\n",
              "    }\n",
              "  </style>\n",
              "\n",
              "      <script>\n",
              "        const buttonEl =\n",
              "          document.querySelector('#df-ae6c4e4b-28c2-48c8-8d10-a7994779f09b button.colab-df-convert');\n",
              "        buttonEl.style.display =\n",
              "          google.colab.kernel.accessAllowed ? 'block' : 'none';\n",
              "\n",
              "        async function convertToInteractive(key) {\n",
              "          const element = document.querySelector('#df-ae6c4e4b-28c2-48c8-8d10-a7994779f09b');\n",
              "          const dataTable =\n",
              "            await google.colab.kernel.invokeFunction('convertToInteractive',\n",
              "                                                     [key], {});\n",
              "          if (!dataTable) return;\n",
              "\n",
              "          const docLinkHtml = 'Like what you see? Visit the ' +\n",
              "            '<a target=\"_blank\" href=https://colab.research.google.com/notebooks/data_table.ipynb>data table notebook</a>'\n",
              "            + ' to learn more about interactive tables.';\n",
              "          element.innerHTML = '';\n",
              "          dataTable['output_type'] = 'display_data';\n",
              "          await google.colab.output.renderOutput(dataTable, element);\n",
              "          const docLink = document.createElement('div');\n",
              "          docLink.innerHTML = docLinkHtml;\n",
              "          element.appendChild(docLink);\n",
              "        }\n",
              "      </script>\n",
              "    </div>\n",
              "  </div>\n",
              "  "
            ],
            "text/plain": [
              "          canton     area  ...  long_sin_pavimento_2v  long_tierra\n",
              "0     Corredores   623.61  ...              12.139449   253.853488\n",
              "1        Golfito  1752.75  ...              72.046381   322.183324\n",
              "2      Coto Brus   944.24  ...               0.000000   268.982485\n",
              "3            Osa  1932.70  ...              55.998104   334.945685\n",
              "4   Buenos Aires  2382.94  ...               0.000000   691.732481\n",
              "..           ...      ...  ...                    ...          ...\n",
              "77       Guatuso   752.83  ...               0.000000   212.507827\n",
              "78    Los Chiles  1332.71  ...               0.000000   433.729374\n",
              "79       Liberia  1442.17  ...               0.000000   751.690800\n",
              "80         Upala  1592.67  ...               2.904216   339.288158\n",
              "81       La Cruz  1385.38  ...               4.303194   535.093947\n",
              "\n",
              "[82 rows x 9 columns]"
            ]
          },
          "metadata": {},
          "execution_count": 19
        }
      ]
    },
    {
      "cell_type": "markdown",
      "source": [
        "##Gráfico plotly de barras "
      ],
      "metadata": {
        "id": "1newgcJEEqWN"
      }
    },
    {
      "cell_type": "code",
      "source": [
        "#Extraer las 15 cantones de mayor longitud total de red vial\n",
        "# Dataframe filtrado para usar en graficación\n",
        "longitud_grafico = pandas_file[['canton', 'longitud']].sort_values(\"longitud\", ascending=[False]).head(15)\n",
        "#Gráfico plotly de barras apiladas \n",
        "longitud_grafico.plot(x='canton',y='longitud',kind='bar',figsize=(20,10))\n",
        "\n",
        "# Título y leyendas en los ejes\n",
        "plt.title('Cantones de mayor longitud total de red vial', fontsize=20)\n",
        "plt.xlabel('Canton', fontsize=16)\n",
        "plt.ylabel('Longitud', fontsize=16)"
      ],
      "metadata": {
        "colab": {
          "base_uri": "https://localhost:8080/",
          "height": 662
        },
        "id": "mGmW5_Pw-imj",
        "outputId": "8a37c65f-10c6-45bf-b25d-5c9b46e90c2e"
      },
      "execution_count": 20,
      "outputs": [
        {
          "output_type": "execute_result",
          "data": {
            "text/plain": [
              "Text(0, 0.5, 'Longitud')"
            ]
          },
          "metadata": {},
          "execution_count": 20
        },
        {
          "output_type": "display_data",
          "data": {
            "image/png": "[encoded data removed]",
            "text/plain": [
              "<Figure size 1440x720 with 1 Axes>"
            ]
          },
          "metadata": {
            "needs_background": "light"
          }
        }
      ]
    },
    {
      "cell_type": "markdown",
      "source": [
        "##Gráfico plotly de pastel \n",
        "\n",
        "Porcentaje de red vial de los 15 cantones de mayor longitud total de la red vial, con respecto a la longitud de la red vial en todo el país.\n",
        "La porción (slice) adicional en el gráfico de pastel llamada “Otros cantones”, correspondiente al porcentaje de la suma de la red vial en los 67 cantones restantes.\""
      ],
      "metadata": {
        "id": "pxwFwc5HEwl0"
      }
    },
    {
      "cell_type": "code",
      "source": [
        "#ordenar los valores por longitud\n",
        "pastel = pandas_file[['canton', 'longitud']].sort_values(\"longitud\", ascending=[False])\n",
        "#reset al index\n",
        "pastel = pastel.reset_index()\n",
        "#extraer la longitud de valor 15\n",
        "longitud_15= pastel['longitud'].loc[14]\n",
        "#cambiar el canton a los siguientes valores luego del 15\n",
        "pastel.loc[pastel['longitud'] < longitud_15 , 'canton'] = 'Otros cantones' \n",
        "#Gráfico plotly de pastel \n",
        "fig = px.pie(pastel, values='longitud', names='canton', title='Porcentaje de los 15 cantones de mayor longitud total de la red vial en el país')\n",
        "fig.show()"
      ],
      "metadata": {
        "colab": {
          "base_uri": "https://localhost:8080/",
          "height": 542
        },
        "id": "282njMVyD7wW",
        "outputId": "bf0c045f-a2eb-47b4-a426-49bb4bc7e4ff"
      },
      "execution_count": 39,
      "outputs": [
        {
          "output_type": "display_data",
          "data": {
            "text/html": [
              "<html>\n",
              "<head><meta charset=\"utf-8\" /></head>\n",
              "<body>\n",
              "    <div>            <script src=\"https://cdnjs.cloudflare.com/ajax/libs/mathjax/2.7.5/MathJax.js?config=TeX-AMS-MML_SVG\"></script><script type=\"text/javascript\">if (window.MathJax) {MathJax.Hub.Config({SVG: {font: \"STIX-Web\"}});}</script>                <script type=\"text/javascript\">window.PlotlyConfig = {MathJaxConfig: 'local'};</script>\n",
              "        <script src=\"https://cdn.plot.ly/plotly-2.8.3.min.js\"></script>                <div id=\"1e608165-08d9-4ea8-8d8a-aa350b0532ed\" class=\"plotly-graph-div\" style=\"height:525px; width:100%;\"></div>            <script type=\"text/javascript\">                                    window.PLOTLYENV=window.PLOTLYENV || {};                                    if (document.getElementById(\"1e608165-08d9-4ea8-8d8a-aa350b0532ed\")) {                    Plotly.newPlot(                        \"1e608165-08d9-4ea8-8d8a-aa350b0532ed\",                        [{\"domain\":{\"x\":[0.0,1.0],\"y\":[0.0,1.0]},\"hovertemplate\":\"canton=%{label}<br>longitud=%{value}<extra></extra>\",\"labels\":[\"San Carlos\",\"P\\u00e9rez Zeled\\u00f3n\",\"Puntarenas\",\"Buenos Aires\",\"Sarapiqu\\u00ed\",\"Liberia\",\"Pococ\\u00ed\",\"Nicoya\",\"Santa Cruz\",\"Bagaces\",\"Los Chiles\",\"Upala\",\"Coto Brus\",\"La Cruz\",\"Turrialba\",\"Otros cantones\",\"Otros cantones\",\"Otros cantones\",\"Otros cantones\",\"Otros cantones\",\"Otros cantones\",\"Otros cantones\",\"Otros cantones\",\"Otros cantones\",\"Otros cantones\",\"Otros cantones\",\"Otros cantones\",\"Otros cantones\",\"Otros cantones\",\"Otros cantones\",\"Otros cantones\",\"Otros cantones\",\"Otros cantones\",\"Otros cantones\",\"Otros cantones\",\"Otros cantones\",\"Otros cantones\",\"Otros cantones\",\"Otros cantones\",\"Otros cantones\",\"Otros cantones\",\"Otros cantones\",\"Otros cantones\",\"Otros cantones\",\"Otros cantones\",\"Otros cantones\",\"Otros cantones\",\"Otros cantones\",\"Otros cantones\",\"Otros cantones\",\"Otros cantones\",\"Otros cantones\",\"Otros cantones\",\"Otros cantones\",\"Otros cantones\",\"Otros cantones\",\"Otros cantones\",\"Otros cantones\",\"Otros cantones\",\"Otros cantones\",\"Otros cantones\",\"Otros cantones\",\"Otros cantones\",\"Otros cantones\",\"Otros cantones\",\"Otros cantones\",\"Otros cantones\",\"Otros cantones\",\"Otros cantones\",\"Otros cantones\",\"Otros cantones\",\"Otros cantones\",\"Otros cantones\",\"Otros cantones\",\"Otros cantones\",\"Otros cantones\",\"Otros cantones\",\"Otros cantones\",\"Otros cantones\",\"Otros cantones\",\"Otros cantones\",\"Otros cantones\"],\"legendgroup\":\"\",\"name\":\"\",\"showlegend\":true,\"values\":[2591.060382065653,1429.5606320730353,1368.1627939695895,1297.0860451637627,1103.353426810611,1070.4430213174649,1058.0215022867637,982.1783623750092,965.1787251417784,847.5407082443809,776.9877796388749,770.1344769976878,747.302687151722,714.1383855760494,688.084553804487,678.898892565084,646.2510859449793,602.6804356307817,589.6685631280396,526.3232786928152,515.8651607109507,502.24611752350955,497.2968681531409,495.8243217580492,489.7899951258809,458.0088659899486,455.808533319457,448.84340454735917,399.1154483240083,394.59087867976694,339.89004373719166,328.3250452659486,318.5117339733036,308.7305684541138,306.54668885634624,306.4700028855729,295.72995222679384,280.84730584736184,276.2160588002897,248.37350097486205,239.6339614247792,238.2541459117736,234.30731013940743,225.703311646783,221.7099247040304,216.78212122823336,211.68705720241857,204.144902532729,200.36527628546287,196.3283163462079,192.95972388011984,181.72237457141728,162.38830314565632,151.17451893445514,147.6826702844709,145.44369672424622,143.38510420425342,123.56177508021439,117.19128505043581,114.68004949477228,107.67082109519666,100.81376067609135,94.83108009631535,86.8661592892095,86.43525615822462,81.25200982266026,72.33714376181308,70.80449419274494,68.49487898379122,68.10592349388318,62.93525943610142,54.73389812881975,43.454480076270684,42.515613609853645,38.89511814263088,33.189210935020995,26.145623240876134,23.176612973286655,20.228056244471325,16.408718762933397,15.10510747614577,11.004351519832788],\"type\":\"pie\"}],                        {\"template\":{\"data\":{\"bar\":[{\"error_x\":{\"color\":\"#2a3f5f\"},\"error_y\":{\"color\":\"#2a3f5f\"},\"marker\":{\"line\":{\"color\":\"#E5ECF6\",\"width\":0.5},\"pattern\":{\"fillmode\":\"overlay\",\"size\":10,\"solidity\":0.2}},\"type\":\"bar\"}],\"barpolar\":[{\"marker\":{\"line\":{\"color\":\"#E5ECF6\",\"width\":0.5},\"pattern\":{\"fillmode\":\"overlay\",\"size\":10,\"solidity\":0.2}},\"type\":\"barpolar\"}],\"carpet\":[{\"aaxis\":{\"endlinecolor\":\"#2a3f5f\",\"gridcolor\":\"white\",\"linecolor\":\"white\",\"minorgridcolor\":\"white\",\"startlinecolor\":\"#2a3f5f\"},\"baxis\":{\"endlinecolor\":\"#2a3f5f\",\"gridcolor\":\"white\",\"linecolor\":\"white\",\"minorgridcolor\":\"white\",\"startlinecolor\":\"#2a3f5f\"},\"type\":\"carpet\"}],\"choropleth\":[{\"colorbar\":{\"outlinewidth\":0,\"ticks\":\"\"},\"type\":\"choropleth\"}],\"contour\":[{\"colorbar\":{\"outlinewidth\":0,\"ticks\":\"\"},\"colorscale\":[[0.0,\"#0d0887\"],[0.1111111111111111,\"#46039f\"],[0.2222222222222222,\"#7201a8\"],[0.3333333333333333,\"#9c179e\"],[0.4444444444444444,\"#bd3786\"],[0.5555555555555556,\"#d8576b\"],[0.6666666666666666,\"#ed7953\"],[0.7777777777777778,\"#fb9f3a\"],[0.8888888888888888,\"#fdca26\"],[1.0,\"#f0f921\"]],\"type\":\"contour\"}],\"contourcarpet\":[{\"colorbar\":{\"outlinewidth\":0,\"ticks\":\"\"},\"type\":\"contourcarpet\"}],\"heatmap\":[{\"colorbar\":{\"outlinewidth\":0,\"ticks\":\"\"},\"colorscale\":[[0.0,\"#0d0887\"],[0.1111111111111111,\"#46039f\"],[0.2222222222222222,\"#7201a8\"],[0.3333333333333333,\"#9c179e\"],[0.4444444444444444,\"#bd3786\"],[0.5555555555555556,\"#d8576b\"],[0.6666666666666666,\"#ed7953\"],[0.7777777777777778,\"#fb9f3a\"],[0.8888888888888888,\"#fdca26\"],[1.0,\"#f0f921\"]],\"type\":\"heatmap\"}],\"heatmapgl\":[{\"colorbar\":{\"outlinewidth\":0,\"ticks\":\"\"},\"colorscale\":[[0.0,\"#0d0887\"],[0.1111111111111111,\"#46039f\"],[0.2222222222222222,\"#7201a8\"],[0.3333333333333333,\"#9c179e\"],[0.4444444444444444,\"#bd3786\"],[0.5555555555555556,\"#d8576b\"],[0.6666666666666666,\"#ed7953\"],[0.7777777777777778,\"#fb9f3a\"],[0.8888888888888888,\"#fdca26\"],[1.0,\"#f0f921\"]],\"type\":\"heatmapgl\"}],\"histogram\":[{\"marker\":{\"pattern\":{\"fillmode\":\"overlay\",\"size\":10,\"solidity\":0.2}},\"type\":\"histogram\"}],\"histogram2d\":[{\"colorbar\":{\"outlinewidth\":0,\"ticks\":\"\"},\"colorscale\":[[0.0,\"#0d0887\"],[0.1111111111111111,\"#46039f\"],[0.2222222222222222,\"#7201a8\"],[0.3333333333333333,\"#9c179e\"],[0.4444444444444444,\"#bd3786\"],[0.5555555555555556,\"#d8576b\"],[0.6666666666666666,\"#ed7953\"],[0.7777777777777778,\"#fb9f3a\"],[0.8888888888888888,\"#fdca26\"],[1.0,\"#f0f921\"]],\"type\":\"histogram2d\"}],\"histogram2dcontour\":[{\"colorbar\":{\"outlinewidth\":0,\"ticks\":\"\"},\"colorscale\":[[0.0,\"#0d0887\"],[0.1111111111111111,\"#46039f\"],[0.2222222222222222,\"#7201a8\"],[0.3333333333333333,\"#9c179e\"],[0.4444444444444444,\"#bd3786\"],[0.5555555555555556,\"#d8576b\"],[0.6666666666666666,\"#ed7953\"],[0.7777777777777778,\"#fb9f3a\"],[0.8888888888888888,\"#fdca26\"],[1.0,\"#f0f921\"]],\"type\":\"histogram2dcontour\"}],\"mesh3d\":[{\"colorbar\":{\"outlinewidth\":0,\"ticks\":\"\"},\"type\":\"mesh3d\"}],\"parcoords\":[{\"line\":{\"colorbar\":{\"outlinewidth\":0,\"ticks\":\"\"}},\"type\":\"parcoords\"}],\"pie\":[{\"automargin\":true,\"type\":\"pie\"}],\"scatter\":[{\"marker\":{\"colorbar\":{\"outlinewidth\":0,\"ticks\":\"\"}},\"type\":\"scatter\"}],\"scatter3d\":[{\"line\":{\"colorbar\":{\"outlinewidth\":0,\"ticks\":\"\"}},\"marker\":{\"colorbar\":{\"outlinewidth\":0,\"ticks\":\"\"}},\"type\":\"scatter3d\"}],\"scattercarpet\":[{\"marker\":{\"colorbar\":{\"outlinewidth\":0,\"ticks\":\"\"}},\"type\":\"scattercarpet\"}],\"scattergeo\":[{\"marker\":{\"colorbar\":{\"outlinewidth\":0,\"ticks\":\"\"}},\"type\":\"scattergeo\"}],\"scattergl\":[{\"marker\":{\"colorbar\":{\"outlinewidth\":0,\"ticks\":\"\"}},\"type\":\"scattergl\"}],\"scattermapbox\":[{\"marker\":{\"colorbar\":{\"outlinewidth\":0,\"ticks\":\"\"}},\"type\":\"scattermapbox\"}],\"scatterpolar\":[{\"marker\":{\"colorbar\":{\"outlinewidth\":0,\"ticks\":\"\"}},\"type\":\"scatterpolar\"}],\"scatterpolargl\":[{\"marker\":{\"colorbar\":{\"outlinewidth\":0,\"ticks\":\"\"}},\"type\":\"scatterpolargl\"}],\"scatterternary\":[{\"marker\":{\"colorbar\":{\"outlinewidth\":0,\"ticks\":\"\"}},\"type\":\"scatterternary\"}],\"surface\":[{\"colorbar\":{\"outlinewidth\":0,\"ticks\":\"\"},\"colorscale\":[[0.0,\"#0d0887\"],[0.1111111111111111,\"#46039f\"],[0.2222222222222222,\"#7201a8\"],[0.3333333333333333,\"#9c179e\"],[0.4444444444444444,\"#bd3786\"],[0.5555555555555556,\"#d8576b\"],[0.6666666666666666,\"#ed7953\"],[0.7777777777777778,\"#fb9f3a\"],[0.8888888888888888,\"#fdca26\"],[1.0,\"#f0f921\"]],\"type\":\"surface\"}],\"table\":[{\"cells\":{\"fill\":{\"color\":\"#EBF0F8\"},\"line\":{\"color\":\"white\"}},\"header\":{\"fill\":{\"color\":\"#C8D4E3\"},\"line\":{\"color\":\"white\"}},\"type\":\"table\"}]},\"layout\":{\"annotationdefaults\":{\"arrowcolor\":\"#2a3f5f\",\"arrowhead\":0,\"arrowwidth\":1},\"autotypenumbers\":\"strict\",\"coloraxis\":{\"colorbar\":{\"outlinewidth\":0,\"ticks\":\"\"}},\"colorscale\":{\"diverging\":[[0,\"#8e0152\"],[0.1,\"#c51b7d\"],[0.2,\"#de77ae\"],[0.3,\"#f1b6da\"],[0.4,\"#fde0ef\"],[0.5,\"#f7f7f7\"],[0.6,\"#e6f5d0\"],[0.7,\"#b8e186\"],[0.8,\"#7fbc41\"],[0.9,\"#4d9221\"],[1,\"#276419\"]],\"sequential\":[[0.0,\"#0d0887\"],[0.1111111111111111,\"#46039f\"],[0.2222222222222222,\"#7201a8\"],[0.3333333333333333,\"#9c179e\"],[0.4444444444444444,\"#bd3786\"],[0.5555555555555556,\"#d8576b\"],[0.6666666666666666,\"#ed7953\"],[0.7777777777777778,\"#fb9f3a\"],[0.8888888888888888,\"#fdca26\"],[1.0,\"#f0f921\"]],\"sequentialminus\":[[0.0,\"#0d0887\"],[0.1111111111111111,\"#46039f\"],[0.2222222222222222,\"#7201a8\"],[0.3333333333333333,\"#9c179e\"],[0.4444444444444444,\"#bd3786\"],[0.5555555555555556,\"#d8576b\"],[0.6666666666666666,\"#ed7953\"],[0.7777777777777778,\"#fb9f3a\"],[0.8888888888888888,\"#fdca26\"],[1.0,\"#f0f921\"]]},\"colorway\":[\"#636efa\",\"#EF553B\",\"#00cc96\",\"#ab63fa\",\"#FFA15A\",\"#19d3f3\",\"#FF6692\",\"#B6E880\",\"#FF97FF\",\"#FECB52\"],\"font\":{\"color\":\"#2a3f5f\"},\"geo\":{\"bgcolor\":\"white\",\"lakecolor\":\"white\",\"landcolor\":\"#E5ECF6\",\"showlakes\":true,\"showland\":true,\"subunitcolor\":\"white\"},\"hoverlabel\":{\"align\":\"left\"},\"hovermode\":\"closest\",\"mapbox\":{\"style\":\"light\"},\"paper_bgcolor\":\"white\",\"plot_bgcolor\":\"#E5ECF6\",\"polar\":{\"angularaxis\":{\"gridcolor\":\"white\",\"linecolor\":\"white\",\"ticks\":\"\"},\"bgcolor\":\"#E5ECF6\",\"radialaxis\":{\"gridcolor\":\"white\",\"linecolor\":\"white\",\"ticks\":\"\"}},\"scene\":{\"xaxis\":{\"backgroundcolor\":\"#E5ECF6\",\"gridcolor\":\"white\",\"gridwidth\":2,\"linecolor\":\"white\",\"showbackground\":true,\"ticks\":\"\",\"zerolinecolor\":\"white\"},\"yaxis\":{\"backgroundcolor\":\"#E5ECF6\",\"gridcolor\":\"white\",\"gridwidth\":2,\"linecolor\":\"white\",\"showbackground\":true,\"ticks\":\"\",\"zerolinecolor\":\"white\"},\"zaxis\":{\"backgroundcolor\":\"#E5ECF6\",\"gridcolor\":\"white\",\"gridwidth\":2,\"linecolor\":\"white\",\"showbackground\":true,\"ticks\":\"\",\"zerolinecolor\":\"white\"}},\"shapedefaults\":{\"line\":{\"color\":\"#2a3f5f\"}},\"ternary\":{\"aaxis\":{\"gridcolor\":\"white\",\"linecolor\":\"white\",\"ticks\":\"\"},\"baxis\":{\"gridcolor\":\"white\",\"linecolor\":\"white\",\"ticks\":\"\"},\"bgcolor\":\"#E5ECF6\",\"caxis\":{\"gridcolor\":\"white\",\"linecolor\":\"white\",\"ticks\":\"\"}},\"title\":{\"x\":0.05},\"xaxis\":{\"automargin\":true,\"gridcolor\":\"white\",\"linecolor\":\"white\",\"ticks\":\"\",\"title\":{\"standoff\":15},\"zerolinecolor\":\"white\",\"zerolinewidth\":2},\"yaxis\":{\"automargin\":true,\"gridcolor\":\"white\",\"linecolor\":\"white\",\"ticks\":\"\",\"title\":{\"standoff\":15},\"zerolinecolor\":\"white\",\"zerolinewidth\":2}}},\"legend\":{\"tracegroupgap\":0},\"title\":{\"text\":\"Porcentaje de los 15 cantones de mayor longitud total de la red vial en el pa\\u00eds\"}},                        {\"responsive\": true}                    ).then(function(){\n",
              "                            \n",
              "var gd = document.getElementById('1e608165-08d9-4ea8-8d8a-aa350b0532ed');\n",
              "var x = new MutationObserver(function (mutations, observer) {{\n",
              "        var display = window.getComputedStyle(gd).display;\n",
              "        if (!display || display === 'none') {{\n",
              "            console.log([gd, 'removed!']);\n",
              "            Plotly.purge(gd);\n",
              "            observer.disconnect();\n",
              "        }}\n",
              "}});\n",
              "\n",
              "// Listen for the removal of the full notebook cells\n",
              "var notebookContainer = gd.closest('#notebook-container');\n",
              "if (notebookContainer) {{\n",
              "    x.observe(notebookContainer, {childList: true});\n",
              "}}\n",
              "\n",
              "// Listen for the clearing of the current output cell\n",
              "var outputEl = gd.closest('.output');\n",
              "if (outputEl) {{\n",
              "    x.observe(outputEl, {childList: true});\n",
              "}}\n",
              "\n",
              "                        })                };                            </script>        </div>\n",
              "</body>\n",
              "</html>"
            ]
          },
          "metadata": {}
        }
      ]
    },
    {
      "cell_type": "markdown",
      "source": [
        "##Mapa folium \n",
        "Un mapa folium con las siguientes capas:\n",
        "* Capa base (OpenStreetMap, Stamen, etc.).\n",
        "* Capa de coropletas correspondiente a la densidad de la red vial en los cantones.\n",
        "* Líneas de la red vial.\n",
        "<br />\n",
        "Y los siguientes controles:\n",
        "* Control para activar y desactivar capas.\n",
        "* Escala\n"
      ],
      "metadata": {
        "id": "rq1BEkZRE4rD"
      }
    },
    {
      "cell_type": "code",
      "source": [
        "# Cargar el GeoJason en un dataframe de pandas\n",
        "densidad = gpad.read_file('/content/datos/redvial_por_canton.geojson')\n",
        "# Cargar el GeoJason en un dataframe de pandas\n",
        "cantones_file = gpad.read_file('/content/datos/cantones.geojson')"
      ],
      "metadata": {
        "id": "n3x2wbxSyHc-"
      },
      "execution_count": 22,
      "outputs": []
    },
    {
      "cell_type": "code",
      "source": [
        "# Creación del mapa base\n",
        "mapa= folium.Map(\n",
        "    location=[9.8, -84], \n",
        "    width=1000, height=1000, \n",
        "    zoom_start=8,\n",
        "    control_scale=True,\n",
        "    tiles='Stamen Watercolor'\n",
        "    )\n",
        "'''\n",
        "#Añadir mapa de coropletas\n",
        "folium.Choropleth(\n",
        "    name=\"Densidad de la red vial en los cantones de Costa Rica\",\n",
        "    geo_data=cantones_file,\n",
        "    data=densidad,\n",
        "    columns=['id', 'densidad'],\n",
        "    bins=8,\n",
        "    key_on='feature.properties.id',\n",
        "    fill_color='Reds', \n",
        "    fill_opacity=0.5, \n",
        "    line_opacity=1,\n",
        "    legend_name='Densidad',\n",
        "    smooth_factor=0).add_to(mapa)\n",
        "'''\n",
        "#añadir capa con las lineas de red vial\n",
        "#folium.GeoJson(data=\"/content/datos/redvial.geojson\", name='Red vial').add_to(mapa)\n",
        "\n",
        "# Control de capas\n",
        "folium.LayerControl().add_to(mapa)\n",
        "\n",
        "# Despliegue del mapa\n",
        "mapa\n"
      ],
      "metadata": {
        "colab": {
          "base_uri": "https://localhost:8080/",
          "height": 674
        },
        "id": "yQ8IxXSHn4lt",
        "outputId": "bac98686-cad0-4d4a-ff71-86e022c6460e"
      },
      "execution_count": 38,
      "outputs": [
        {
          "output_type": "execute_result",
          "data": {
            "text/html": [
              "<div style=\"width:100%;\"><div style=\"position:relative;width:100%;height:0;padding-bottom:60%;\"><span style=\"color:#565656\">Make this Notebook Trusted to load map: File -> Trust Notebook</span><iframe src=\"about:blank\" style=\"position:absolute;width:100%;height:100%;left:0;top:0;border:none !important;\" data-html=%3C%21DOCTYPE%20html%3E%0A%3Chead%3E%20%20%20%20%0A%20%20%20%20%3Cmeta%20http-equiv%3D%22content-type%22%20content%3D%22text/html%3B%20charset%3DUTF-8%22%20/%3E%0A%20%20%20%20%3Cscript%3EL_PREFER_CANVAS%3Dfalse%3B%20L_NO_TOUCH%3Dfalse%3B%20L_DISABLE_3D%3Dfalse%3B%3C/script%3E%0A%20%20%20%20%3Cscript%20src%3D%22https%3A//cdn.jsdelivr.net/npm/leaflet%401.4.0/dist/leaflet.js%22%3E%3C/script%3E%0A%20%20%20%20%3Cscript%20src%3D%22https%3A//code.jquery.com/jquery-1.12.4.min.js%22%3E%3C/script%3E%0A%20%20%20%20%3Cscript%20src%3D%22https%3A//maxcdn.bootstrapcdn.com/bootstrap/3.2.0/js/bootstrap.min.js%22%3E%3C/script%3E%0A%20%20%20%20%3Cscript%20src%3D%22https%3A//cdnjs.cloudflare.com/ajax/libs/Leaflet.awesome-markers/2.0.2/leaflet.awesome-markers.js%22%3E%3C/script%3E%0A%20%20%20%20%3Clink%20rel%3D%22stylesheet%22%20href%3D%22https%3A//cdn.jsdelivr.net/npm/leaflet%401.4.0/dist/leaflet.css%22/%3E%0A%20%20%20%20%3Clink%20rel%3D%22stylesheet%22%20href%3D%22https%3A//maxcdn.bootstrapcdn.com/bootstrap/3.2.0/css/bootstrap.min.css%22/%3E%0A%20%20%20%20%3Clink%20rel%3D%22stylesheet%22%20href%3D%22https%3A//maxcdn.bootstrapcdn.com/bootstrap/3.2.0/css/bootstrap-theme.min.css%22/%3E%0A%20%20%20%20%3Clink%20rel%3D%22stylesheet%22%20href%3D%22https%3A//maxcdn.bootstrapcdn.com/font-awesome/4.6.3/css/font-awesome.min.css%22/%3E%0A%20%20%20%20%3Clink%20rel%3D%22stylesheet%22%20href%3D%22https%3A//cdnjs.cloudflare.com/ajax/libs/Leaflet.awesome-markers/2.0.2/leaflet.awesome-markers.css%22/%3E%0A%20%20%20%20%3Clink%20rel%3D%22stylesheet%22%20href%3D%22https%3A//rawcdn.githack.com/python-visualization/folium/master/folium/templates/leaflet.awesome.rotate.css%22/%3E%0A%20%20%20%20%3Cstyle%3Ehtml%2C%20body%20%7Bwidth%3A%20100%25%3Bheight%3A%20100%25%3Bmargin%3A%200%3Bpadding%3A%200%3B%7D%3C/style%3E%0A%20%20%20%20%3Cstyle%3E%23map%20%7Bposition%3Aabsolute%3Btop%3A0%3Bbottom%3A0%3Bright%3A0%3Bleft%3A0%3B%7D%3C/style%3E%0A%20%20%20%20%0A%20%20%20%20%3Cmeta%20name%3D%22viewport%22%20content%3D%22width%3Ddevice-width%2C%0A%20%20%20%20%20%20%20%20initial-scale%3D1.0%2C%20maximum-scale%3D1.0%2C%20user-scalable%3Dno%22%20/%3E%0A%20%20%20%20%3Cstyle%3E%23map_464b0aea0d9844cbadd337ac505796e0%20%7B%0A%20%20%20%20%20%20%20%20position%3A%20relative%3B%0A%20%20%20%20%20%20%20%20width%3A%201000.0px%3B%0A%20%20%20%20%20%20%20%20height%3A%201000.0px%3B%0A%20%20%20%20%20%20%20%20left%3A%200.0%25%3B%0A%20%20%20%20%20%20%20%20top%3A%200.0%25%3B%0A%20%20%20%20%20%20%20%20%7D%0A%20%20%20%20%3C/style%3E%0A%3C/head%3E%0A%3Cbody%3E%20%20%20%20%0A%20%20%20%20%0A%20%20%20%20%3Cdiv%20class%3D%22folium-map%22%20id%3D%22map_464b0aea0d9844cbadd337ac505796e0%22%20%3E%3C/div%3E%0A%3C/body%3E%0A%3Cscript%3E%20%20%20%20%0A%20%20%20%20%0A%20%20%20%20%0A%20%20%20%20%20%20%20%20var%20bounds%20%3D%20null%3B%0A%20%20%20%20%0A%0A%20%20%20%20var%20map_464b0aea0d9844cbadd337ac505796e0%20%3D%20L.map%28%0A%20%20%20%20%20%20%20%20%27map_464b0aea0d9844cbadd337ac505796e0%27%2C%20%7B%0A%20%20%20%20%20%20%20%20center%3A%20%5B9.8%2C%20-84%5D%2C%0A%20%20%20%20%20%20%20%20zoom%3A%208%2C%0A%20%20%20%20%20%20%20%20maxBounds%3A%20bounds%2C%0A%20%20%20%20%20%20%20%20layers%3A%20%5B%5D%2C%0A%20%20%20%20%20%20%20%20worldCopyJump%3A%20false%2C%0A%20%20%20%20%20%20%20%20crs%3A%20L.CRS.EPSG3857%2C%0A%20%20%20%20%20%20%20%20zoomControl%3A%20true%2C%0A%20%20%20%20%20%20%20%20%7D%29%3B%0AL.control.scale%28%29.addTo%28map_464b0aea0d9844cbadd337ac505796e0%29%3B%0A%0A%20%20%20%20%0A%20%20%20%20var%20tile_layer_1da38153b79d4a798748a4555570824f%20%3D%20L.tileLayer%28%0A%20%20%20%20%20%20%20%20%27https%3A//stamen-tiles-%7Bs%7D.a.ssl.fastly.net/watercolor/%7Bz%7D/%7Bx%7D/%7By%7D.jpg%27%2C%0A%20%20%20%20%20%20%20%20%7B%0A%20%20%20%20%20%20%20%20%22attribution%22%3A%20null%2C%0A%20%20%20%20%20%20%20%20%22detectRetina%22%3A%20false%2C%0A%20%20%20%20%20%20%20%20%22maxNativeZoom%22%3A%2018%2C%0A%20%20%20%20%20%20%20%20%22maxZoom%22%3A%2018%2C%0A%20%20%20%20%20%20%20%20%22minZoom%22%3A%200%2C%0A%20%20%20%20%20%20%20%20%22noWrap%22%3A%20false%2C%0A%20%20%20%20%20%20%20%20%22opacity%22%3A%201%2C%0A%20%20%20%20%20%20%20%20%22subdomains%22%3A%20%22abc%22%2C%0A%20%20%20%20%20%20%20%20%22tms%22%3A%20false%0A%7D%29.addTo%28map_464b0aea0d9844cbadd337ac505796e0%29%3B%0A%20%20%20%20%0A%20%20%20%20%20%20%20%20%20%20%20%20var%20layer_control_dc433b5eadf54b6995758b564c65fdda%20%3D%20%7B%0A%20%20%20%20%20%20%20%20%20%20%20%20%20%20%20%20base_layers%20%3A%20%7B%20%22stamenwatercolor%22%20%3A%20tile_layer_1da38153b79d4a798748a4555570824f%2C%20%7D%2C%0A%20%20%20%20%20%20%20%20%20%20%20%20%20%20%20%20overlays%20%3A%20%7B%20%20%7D%0A%20%20%20%20%20%20%20%20%20%20%20%20%20%20%20%20%7D%3B%0A%20%20%20%20%20%20%20%20%20%20%20%20L.control.layers%28%0A%20%20%20%20%20%20%20%20%20%20%20%20%20%20%20%20layer_control_dc433b5eadf54b6995758b564c65fdda.base_layers%2C%0A%20%20%20%20%20%20%20%20%20%20%20%20%20%20%20%20layer_control_dc433b5eadf54b6995758b564c65fdda.overlays%2C%0A%20%20%20%20%20%20%20%20%20%20%20%20%20%20%20%20%7Bposition%3A%20%27topright%27%2C%0A%20%20%20%20%20%20%20%20%20%20%20%20%20%20%20%20%20collapsed%3A%20true%2C%0A%20%20%20%20%20%20%20%20%20%20%20%20%20%20%20%20%20autoZIndex%3A%20true%0A%20%20%20%20%20%20%20%20%20%20%20%20%20%20%20%20%7D%29.addTo%28map_464b0aea0d9844cbadd337ac505796e0%29%3B%0A%20%20%20%20%20%20%20%20%20%20%20%20%0A%20%20%20%20%20%20%20%20%0A%3C/script%3E onload=\"this.contentDocument.open();this.contentDocument.write(    decodeURIComponent(this.getAttribute('data-html')));this.contentDocument.close();\" allowfullscreen webkitallowfullscreen mozallowfullscreen></iframe></div></div>"
            ],
            "text/plain": [
              "<folium.folium.Map at 0x7f7bc2af0dd0>"
            ]
          },
          "metadata": {},
          "execution_count": 38
        }
      ]
    }
  ]
}